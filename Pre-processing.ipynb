{
 "cells": [
  {
   "cell_type": "markdown",
   "metadata": {
    "id": "qBhWCLgJsAkV"
   },
   "source": [
    "#Khai phá dữ liệu\n"
   ]
  },
  {
   "cell_type": "markdown",
   "metadata": {
    "id": "zN1dVML3kXY0"
   },
   "source": [
    "##Import thư viện và tải dữ liệu tù kaggle\n",
    "\n",
    "---\n",
    "\n"
   ]
  },
  {
   "cell_type": "code",
   "execution_count": 1,
   "metadata": {
    "colab": {
     "base_uri": "https://localhost:8080/"
    },
    "executionInfo": {
     "elapsed": 8287,
     "status": "ok",
     "timestamp": 1752971671741,
     "user": {
      "displayName": "Đạt Nguyễn Thành",
      "userId": "05303533103985890336"
     },
     "user_tz": -420
    },
    "id": "_fKTXqyMkaJy",
    "outputId": "f20a7ae0-d294-42b3-c315-5d7336032f1e"
   },
   "outputs": [
    {
     "name": "stdout",
     "output_type": "stream",
     "text": [
      "Downloading from https://www.kaggle.com/api/v1/datasets/download/sulianova/cardiovascular-disease-dataset?dataset_version_number=1...\n"
     ]
    },
    {
     "name": "stderr",
     "output_type": "stream",
     "text": [
      "100%|██████████| 742k/742k [00:00<00:00, 1.61MB/s]"
     ]
    },
    {
     "name": "stdout",
     "output_type": "stream",
     "text": [
      "Extracting files...\n",
      "Path to dataset files: /root/.cache/kagglehub/datasets/sulianova/cardiovascular-disease-dataset/versions/1\n"
     ]
    },
    {
     "name": "stderr",
     "output_type": "stream",
     "text": [
      "\n"
     ]
    }
   ],
   "source": [
    "import kagglehub\n",
    "\n",
    "# Download latest version\n",
    "path = kagglehub.dataset_download(\"sulianova/cardiovascular-disease-dataset\")\n",
    "\n",
    "print(\"Path to dataset files:\", path)"
   ]
  },
  {
   "cell_type": "code",
   "execution_count": 2,
   "metadata": {
    "executionInfo": {
     "elapsed": 1462,
     "status": "ok",
     "timestamp": 1752971673215,
     "user": {
      "displayName": "Đạt Nguyễn Thành",
      "userId": "05303533103985890336"
     },
     "user_tz": -420
    },
    "id": "l7NrM0KBk6M6"
   },
   "outputs": [],
   "source": [
    "from pyspark.sql import SparkSession\n",
    "from pyspark.sql.functions import mean, stddev, min, max, isnan, sum, countDistinct\n",
    "from pyspark.sql.functions import floor, col,expr"
   ]
  },
  {
   "cell_type": "markdown",
   "metadata": {
    "id": "wLppazVmzwgI"
   },
   "source": [
    "##in 5 dòng đầu"
   ]
  },
  {
   "cell_type": "code",
   "execution_count": 3,
   "metadata": {
    "colab": {
     "base_uri": "https://localhost:8080/"
    },
    "executionInfo": {
     "elapsed": 36858,
     "status": "ok",
     "timestamp": 1752971710075,
     "user": {
      "displayName": "Đạt Nguyễn Thành",
      "userId": "05303533103985890336"
     },
     "user_tz": -420
    },
    "id": "SCbaHTiSlQmv",
    "outputId": "d074c0b0-4516-4bc2-a7a0-1497eff5f21e"
   },
   "outputs": [
    {
     "name": "stdout",
     "output_type": "stream",
     "text": [
      "+---+-----+------+------+------+-----+-----+-----------+----+-----+----+------+------+\n",
      "| id|  age|gender|height|weight|ap_hi|ap_lo|cholesterol|gluc|smoke|alco|active|cardio|\n",
      "+---+-----+------+------+------+-----+-----+-----------+----+-----+----+------+------+\n",
      "|  0|18393|     2|   168|  62.0|  110|   80|          1|   1|    0|   0|     1|     0|\n",
      "|  1|20228|     1|   156|  85.0|  140|   90|          3|   1|    0|   0|     1|     1|\n",
      "|  2|18857|     1|   165|  64.0|  130|   70|          3|   1|    0|   0|     0|     1|\n",
      "|  3|17623|     2|   169|  82.0|  150|  100|          1|   1|    0|   0|     1|     1|\n",
      "|  4|17474|     1|   156|  56.0|  100|   60|          1|   1|    0|   0|     0|     0|\n",
      "+---+-----+------+------+------+-----+-----+-----------+----+-----+----+------+------+\n",
      "only showing top 5 rows\n",
      "\n"
     ]
    }
   ],
   "source": [
    "spark = SparkSession.builder.appName(\"CardioAnalysis\").getOrCreate()\n",
    "csv_path = path + \"/cardio_train.csv\"\n",
    "df = spark.read.csv(csv_path, header=True, sep=';', inferSchema=True)\n",
    "df.show(5)"
   ]
  },
  {
   "cell_type": "code",
   "execution_count": 4,
   "metadata": {
    "colab": {
     "base_uri": "https://localhost:8080/"
    },
    "executionInfo": {
     "elapsed": 1868,
     "status": "ok",
     "timestamp": 1752971711947,
     "user": {
      "displayName": "Đạt Nguyễn Thành",
      "userId": "05303533103985890336"
     },
     "user_tz": -420
    },
    "id": "9jXH5KgJ0R5Y",
    "outputId": "7336a3e2-8aab-4512-b5af-7baedfea8d9c"
   },
   "outputs": [
    {
     "name": "stdout",
     "output_type": "stream",
     "text": [
      "+-----+-----+------+------+------+-----+-----+-----------+----+-----+----+------+------+------+\n",
      "|   id|  age|gender|height|weight|ap_hi|ap_lo|cholesterol|gluc|smoke|alco|active|cardio|row_id|\n",
      "+-----+-----+------+------+------+-----+-----+-----------+----+-----+----+------+------+------+\n",
      "|99999|20540|     1|   170|  72.0|  120|   80|          2|   1|    0|   0|     1|     0| 69999|\n",
      "|99998|22431|     1|   163|  72.0|  135|   80|          1|   2|    0|   0|     0|     1| 69998|\n",
      "|99996|19066|     2|   183| 105.0|  180|   90|          3|   1|    0|   1|     0|     1| 69997|\n",
      "|99995|22601|     1|   158| 126.0|  140|   90|          2|   2|    0|   0|     1|     1| 69996|\n",
      "|99993|19240|     2|   168|  76.0|  120|   80|          1|   1|    1|   0|     1|     0| 69995|\n",
      "+-----+-----+------+------+------+-----+-----+-----------+----+-----+----+------+------+------+\n",
      "\n"
     ]
    }
   ],
   "source": [
    "from pyspark.sql.functions import monotonically_increasing_id\n",
    "df_with_index = df.withColumn(\"row_id\", monotonically_increasing_id())\n",
    "df_last_5 = df_with_index.orderBy(\"row_id\", ascending=False).limit(5)\n",
    "df_last_5.show()"
   ]
  },
  {
   "cell_type": "markdown",
   "metadata": {
    "id": "0mZdctEDtw8-"
   },
   "source": [
    "##Thông tin các cột trong bộ dữ liệu"
   ]
  },
  {
   "cell_type": "code",
   "execution_count": 5,
   "metadata": {
    "colab": {
     "base_uri": "https://localhost:8080/"
    },
    "executionInfo": {
     "elapsed": 29,
     "status": "ok",
     "timestamp": 1752971711983,
     "user": {
      "displayName": "Đạt Nguyễn Thành",
      "userId": "05303533103985890336"
     },
     "user_tz": -420
    },
    "id": "QGGjajO6mhxW",
    "outputId": "ce342de1-aa3d-4545-b7d4-4903a4177119"
   },
   "outputs": [
    {
     "name": "stdout",
     "output_type": "stream",
     "text": [
      "root\n",
      " |-- id: integer (nullable = true)\n",
      " |-- age: integer (nullable = true)\n",
      " |-- gender: integer (nullable = true)\n",
      " |-- height: integer (nullable = true)\n",
      " |-- weight: double (nullable = true)\n",
      " |-- ap_hi: integer (nullable = true)\n",
      " |-- ap_lo: integer (nullable = true)\n",
      " |-- cholesterol: integer (nullable = true)\n",
      " |-- gluc: integer (nullable = true)\n",
      " |-- smoke: integer (nullable = true)\n",
      " |-- alco: integer (nullable = true)\n",
      " |-- active: integer (nullable = true)\n",
      " |-- cardio: integer (nullable = true)\n",
      "\n"
     ]
    }
   ],
   "source": [
    "df.printSchema()"
   ]
  },
  {
   "cell_type": "markdown",
   "metadata": {
    "id": "c58vtkOfF8F-"
   },
   "source": [
    "|  Cột       |  Ý nghĩa    |  Ghi chú thêm                                     |\n",
    "| ------------- | --------------------- | --------------------------------------------------- |\n",
    "| `id`          | Mã số bệnh nhân       | Không có ý nghĩa trong mô hình, nên loại bỏ         |\n",
    "| `age`         | Tuổi (tính theo ngày) | Nhóm sẽ chia 365 để tính tuổi theo năm                 |\n",
    "| `gender`      | Giới tính             | 1: Nữ, 2: Nam                                       |\n",
    "| `height`      | Chiều cao (cm)        | Có thể dùng để tính BMI                             |\n",
    "| `weight`      | Cân nặng (kg)         | Kết hợp `height` để tính BMI                        |\n",
    "| `ap_hi`       | Huyết áp tâm thu      | Giá trị cao có thể là dấu hiệu bệnh tim             |\n",
    "| `ap_lo`       | Huyết áp tâm trương   |  kiểm tra outlier vì có nhiều giá trị bất thường |\n",
    "| `cholesterol` | Mức cholesterol       | 1: Bình thường, 2: Cao, 3: Rất cao                  |\n",
    "| `gluc`        | Mức đường huyết       | 1: Bình thường, 2: Cao, 3: Rất cao                  |\n",
    "| `smoke`       | Hút thuốc             | 1: Có hút, 0: Không                                 |\n",
    "| `alco`        | Uống rượu bia         | 1: Có uống, 0: Không                                |\n",
    "| `active`      | Hoạt động thể chất    | 1: Có tập luyện, 0: Không tập                       |\n",
    "| `cardio`      | Kết quả bệnh tim      | 1: Có bệnh tim mạch, 0: Không có  |\n"
   ]
  },
  {
   "cell_type": "markdown",
   "metadata": {
    "id": "Iq0H1ua6t5G-"
   },
   "source": [
    "##Số dòng số cột"
   ]
  },
  {
   "cell_type": "code",
   "execution_count": 6,
   "metadata": {
    "colab": {
     "base_uri": "https://localhost:8080/"
    },
    "executionInfo": {
     "elapsed": 1142,
     "status": "ok",
     "timestamp": 1752971713129,
     "user": {
      "displayName": "Đạt Nguyễn Thành",
      "userId": "05303533103985890336"
     },
     "user_tz": -420
    },
    "id": "HQzMCMFRmrcV",
    "outputId": "17654a49-174a-4c40-bdf5-29949a5d7809"
   },
   "outputs": [
    {
     "name": "stdout",
     "output_type": "stream",
     "text": [
      "Số dòng: 70000\n",
      "Số cột: 13\n"
     ]
    }
   ],
   "source": [
    "print(\"Số dòng:\", df.count())\n",
    "print(\"Số cột:\", len(df.columns))"
   ]
  },
  {
   "cell_type": "markdown",
   "metadata": {
    "id": "5fdXQo24unry"
   },
   "source": [
    "##Tìm cột bị trùng"
   ]
  },
  {
   "cell_type": "code",
   "execution_count": 7,
   "metadata": {
    "colab": {
     "base_uri": "https://localhost:8080/"
    },
    "executionInfo": {
     "elapsed": 4361,
     "status": "ok",
     "timestamp": 1752971717492,
     "user": {
      "displayName": "Đạt Nguyễn Thành",
      "userId": "05303533103985890336"
     },
     "user_tz": -420
    },
    "id": "YHjdd0zYumTF",
    "outputId": "b23d419e-79e9-44c9-c82d-b09188b68c8e"
   },
   "outputs": [
    {
     "data": {
      "text/plain": [
       "0"
      ]
     },
     "execution_count": 7,
     "metadata": {},
     "output_type": "execute_result"
    }
   ],
   "source": [
    "duplicate_count = df.groupBy(df.columns).count().filter(\"count > 1\").count()\n",
    "duplicate_count"
   ]
  },
  {
   "cell_type": "code",
   "execution_count": 8,
   "metadata": {
    "colab": {
     "base_uri": "https://localhost:8080/"
    },
    "executionInfo": {
     "elapsed": 4736,
     "status": "ok",
     "timestamp": 1752971722236,
     "user": {
      "displayName": "Đạt Nguyễn Thành",
      "userId": "05303533103985890336"
     },
     "user_tz": -420
    },
    "id": "_g0jJknjm4gi",
    "outputId": "6dea93b4-79bd-4989-f6e0-b75d28e40c64"
   },
   "outputs": [
    {
     "name": "stdout",
     "output_type": "stream",
     "text": [
      "+-------+------------------+------------------+-------------------+------------------+------------------+-----------------+------------------+------------------+------------------+-------------------+--------------------+------------------+------------------+\n",
      "|summary|                id|               age|             gender|            height|            weight|            ap_hi|             ap_lo|       cholesterol|              gluc|              smoke|                alco|            active|            cardio|\n",
      "+-------+------------------+------------------+-------------------+------------------+------------------+-----------------+------------------+------------------+------------------+-------------------+--------------------+------------------+------------------+\n",
      "|  count|             70000|             70000|              70000|             70000|             70000|            70000|             70000|             70000|             70000|              70000|               70000|             70000|             70000|\n",
      "|   mean|        49972.4199|19468.865814285713| 1.3495714285714286|164.35922857142856|          74.20569|128.8172857142857| 96.63041428571428|1.3668714285714285| 1.226457142857143|0.08812857142857143|0.053771428571428574|0.8037285714285715|            0.4997|\n",
      "| stddev|28851.302323172742| 2467.251667241397|0.47683801558286265| 8.210126364538075|14.395756678511347|154.0114194560919|188.47253029638918|0.6802503486993823|0.5722702766138456|0.28348381676993667| 0.22556770360410555|0.3971790635049267|0.5000034814661851|\n",
      "|    min|                 0|             10798|                  1|                55|              10.0|             -150|               -70|                 1|                 1|                  0|                   0|                 0|                 0|\n",
      "|    max|             99999|             23713|                  2|               250|             200.0|            16020|             11000|                 3|                 3|                  1|                   1|                 1|                 1|\n",
      "+-------+------------------+------------------+-------------------+------------------+------------------+-----------------+------------------+------------------+------------------+-------------------+--------------------+------------------+------------------+\n",
      "\n"
     ]
    }
   ],
   "source": [
    "df.describe().show()"
   ]
  },
  {
   "cell_type": "markdown",
   "metadata": {
    "id": "N-8KpDA8FiaZ"
   },
   "source": [
    "| Cột                       | Ý nghĩa                                                     |\n",
    "| ------------------------- | ---------------------------------------------------------------------------- |\n",
    "| `age`                     | Trung bình \\~19469 ngày ≈ **53 tuổi**. Min = 10k ngày (\\~29 tuổi) →  Hợp lý |\n",
    "| `height`                  | Min = **55cm**, Max = **250cm** →  Có outlier                              |\n",
    "| `weight`                  | Min = **10kg**, Max = **200kg** →  Cần xử lý dữ liệu bất thường            |\n",
    "| `ap_hi`, `ap_lo`          | Min = **-150**, Max = **16020** →  Có giá trị sai → cần lọc                 |\n",
    "| `cholesterol`, `gluc`     | Giá trị từ 1 đến 3 (bình thường → cao → rất cao)                             |\n",
    "| `smoke`, `alco`, `active` | Nhị phân 0/1 → đã sẵn sàng dùng cho mô hình                                  |\n",
    "| `cardio`                  | Nhãn (label) 0 hoặc 1 → phân bố đều (mean \\~0.5)                            |\n"
   ]
  },
  {
   "cell_type": "markdown",
   "metadata": {
    "id": "jxFTsghbJkrC"
   },
   "source": [
    "Nhằm đảm bảo chất lượng dữ liệu đầu vào cho mô hình học máy, nhóm đã thực hiện một số bước tiền xử lý để loại bỏ các giá trị bất hợp lý. Cụ thể:\n",
    "\n",
    "Các mẫu có height < 100 hoặc height > 220 được loại bỏ vì đây là các giá trị không hợp lý đối với chiều cao con người, có thể do lỗi nhập liệu hoặc sai số đo lường. Nếu giữ lại, các giá trị này có thể gây nhiễu cho mô hình.\n",
    "\n",
    "Tương tự, các giá trị weight < 30 hoặc weight > 180 cũng bị loại vì rơi vào khoảng rất hiếm gặp ở người lớn khỏe mạnh. Dữ liệu bất thường này nếu không được xử lý sẽ ảnh hưởng tiêu cực đến độ chính xác của mô hình dự đoán.\n",
    "\n",
    "Các dòng có ap_hi <= 0 hoặc ap_hi > 250 được lọc ra khỏi tập dữ liệu. Trong đó, ví dụ như ap_hi = 16020 là một lỗi nhập liệu rõ ràng. Về bản chất, huyết áp tâm thu không thể âm hoặc quá cao vượt xa giới hạn sinh lý.\n",
    "\n",
    "Cuối cùng, những mẫu có ap_lo <= 0 hoặc ap_lo > 200 cũng bị loại bỏ vì huyết áp tâm trương không thể mang giá trị âm và hiếm khi vượt quá 200. Giữ lại các giá trị này sẽ gây sai lệch nghiêm trọng cho việc phân tích và huấn luyện mô hình"
   ]
  },
  {
   "cell_type": "markdown",
   "metadata": {
    "id": "onjptQdetUb5"
   },
   "source": [
    "#Tiền xử lý dữ liệu"
   ]
  },
  {
   "cell_type": "code",
   "execution_count": 9,
   "metadata": {
    "executionInfo": {
     "elapsed": 19,
     "status": "ok",
     "timestamp": 1752971722249,
     "user": {
      "displayName": "Đạt Nguyễn Thành",
      "userId": "05303533103985890336"
     },
     "user_tz": -420
    },
    "id": "MH9EhISFnCMx"
   },
   "outputs": [],
   "source": [
    "df = df.filter((col(\"height\").between(100, 220)) &\n",
    "               (col(\"weight\").between(30, 180)) &\n",
    "               (col(\"ap_hi\") > 0) & (col(\"ap_hi\") < 250) &\n",
    "               (col(\"ap_lo\") > 0) & (col(\"ap_lo\") < 200))"
   ]
  },
  {
   "cell_type": "code",
   "execution_count": 10,
   "metadata": {
    "colab": {
     "base_uri": "https://localhost:8080/"
    },
    "executionInfo": {
     "elapsed": 481,
     "status": "ok",
     "timestamp": 1752971722758,
     "user": {
      "displayName": "Đạt Nguyễn Thành",
      "userId": "05303533103985890336"
     },
     "user_tz": -420
    },
    "id": "3MdWz1rIoPgh",
    "outputId": "57cb6c03-682b-4ae6-f78f-03436b3fabbf"
   },
   "outputs": [
    {
     "name": "stdout",
     "output_type": "stream",
     "text": [
      "+---+------+------+------+-----+-----+-----------+----+-----+----+------+------+---------+\n",
      "| id|gender|height|weight|ap_hi|ap_lo|cholesterol|gluc|smoke|alco|active|cardio|age_years|\n",
      "+---+------+------+------+-----+-----+-----------+----+-----+----+------+------+---------+\n",
      "|  0|     2|   168|  62.0|  110|   80|          1|   1|    0|   0|     1|     0|       50|\n",
      "|  1|     1|   156|  85.0|  140|   90|          3|   1|    0|   0|     1|     1|       55|\n",
      "|  2|     1|   165|  64.0|  130|   70|          3|   1|    0|   0|     0|     1|       51|\n",
      "|  3|     2|   169|  82.0|  150|  100|          1|   1|    0|   0|     1|     1|       48|\n",
      "|  4|     1|   156|  56.0|  100|   60|          1|   1|    0|   0|     0|     0|       47|\n",
      "|  8|     1|   151|  67.0|  120|   80|          2|   2|    0|   0|     0|     0|       60|\n",
      "|  9|     1|   157|  93.0|  130|   80|          3|   1|    0|   0|     1|     0|       60|\n",
      "| 12|     2|   178|  95.0|  130|   90|          3|   3|    0|   0|     1|     1|       61|\n",
      "| 13|     1|   158|  71.0|  110|   70|          1|   1|    0|   0|     1|     0|       48|\n",
      "| 14|     1|   164|  68.0|  110|   60|          1|   1|    0|   0|     0|     0|       54|\n",
      "+---+------+------+------+-----+-----+-----------+----+-----+----+------+------+---------+\n",
      "only showing top 10 rows\n",
      "\n"
     ]
    }
   ],
   "source": [
    "df = df.withColumn(\"age_years\", floor(col(\"age\") / 365)).drop(\"age\")\n",
    "df.show(10)"
   ]
  },
  {
   "cell_type": "code",
   "execution_count": 11,
   "metadata": {
    "executionInfo": {
     "elapsed": 6344,
     "status": "ok",
     "timestamp": 1752971729112,
     "user": {
      "displayName": "Đạt Nguyễn Thành",
      "userId": "05303533103985890336"
     },
     "user_tz": -420
    },
    "id": "BGDj8JTPpviY"
   },
   "outputs": [],
   "source": [
    "df_pd = df.select(\n",
    "    \"age_years\", \"height\", \"weight\", \"ap_hi\", \"ap_lo\",\n",
    "    \"cholesterol\", \"gluc\", \"smoke\", \"alco\", \"active\", \"cardio\"\n",
    ").toPandas()"
   ]
  },
  {
   "cell_type": "code",
   "execution_count": 12,
   "metadata": {
    "colab": {
     "base_uri": "https://localhost:8080/",
     "height": 807
    },
    "executionInfo": {
     "elapsed": 2785,
     "status": "ok",
     "timestamp": 1752971731914,
     "user": {
      "displayName": "Đạt Nguyễn Thành",
      "userId": "05303533103985890336"
     },
     "user_tz": -420
    },
    "id": "VMtCk2x5p_io",
    "outputId": "8d23a365-2829-4127-8fe4-d699e994c306"
   },
   "outputs": [
    {
     "data": {
      "image/png": "[encoded data removed]",
      "text/plain": [
       "<Figure size 1000x800 with 2 Axes>"
      ]
     },
     "metadata": {},
     "output_type": "display_data"
    }
   ],
   "source": [
    "import seaborn as sns\n",
    "import matplotlib.pyplot as plt\n",
    "\n",
    "plt.figure(figsize=(10, 8))\n",
    "\n",
    "corr_matrix = df_pd.corr(numeric_only=True)\n",
    "\n",
    "sns.heatmap(\n",
    "    corr_matrix,\n",
    "    annot=True,\n",
    "    fmt=\".2f\",\n",
    "    cmap=\"coolwarm\",\n",
    "    linewidths=0.5,\n",
    "    square=True,\n",
    "    cbar_kws={\"shrink\": 0.8}\n",
    ")\n",
    "\n",
    "plt.title(\" Ma trận tương quan giữa các đặc trưng\", fontsize=14)\n",
    "plt.xticks(rotation=45)\n",
    "plt.yticks(rotation=0)\n",
    "plt.tight_layout()\n",
    "plt.show()\n"
   ]
  },
  {
   "cell_type": "markdown",
   "metadata": {
    "id": "xYRUsl5fJ929"
   },
   "source": [
    "| Biến (feature)                    | Tương quan với `cardio` | Ý nghĩa thực tiễn                  |\n",
    "| --------------------------------- | ----------------------- | ---------------------------------- |\n",
    "| `age`                             | **+0.24**              | Tuổi cao → tăng nguy cơ bệnh tim   |\n",
    "| `ap_hi` (huyết áp tâm thu)        | **+0.40**            | Rất mạnh → nên giữ                 |\n",
    "| `ap_lo` (huyết áp tâm trương)     | **+0.33**               | Cũng có ảnh hưởng                  |\n",
    "| `cholesterol`                     | **+0.22**               | Cholesterol cao liên quan bệnh tim |\n",
    "| `weight`                          | **+0.18**               | Có ảnh hưởng nhẹ                   |\n",
    "| `height`                          | **-0.01**               | Không ảnh hưởng  |\n",
    "| `gluc`, `smoke`, `alco`, `active` | Gần 0                 | Không ảnh hưởng nhiều              |\n",
    "\n",
    "\n",
    " Phân tích cho thấy các biến có ảnh hưởng mạnh nhất đến khả năng mắc bệnh tim mạch (cardio) bao gồm:\n",
    "\n",
    "`age `(tuổi)\n",
    "\n",
    "`cholesterol` (mức cholesterol)\n",
    "\n",
    "`gluc` (mức glucose)\n",
    "\n",
    "`ap_hi` (huyết áp tâm thu)\n",
    "\n",
    "`ap_lo`(huyết áp tâm trương)\n",
    "\n",
    "Bên cạnh đó, nhóm nhận thấy rằng chiều cao có thể đóng vai trò nhất định trong việc dự đoán nguy cơ bệnh tim. Tuy nhiên, để phản ánh đầy đủ và chính xác hơn tình trạng thể chất của bệnh nhân, nhóm đã lựa chọn kết hợp chiều cao và cân nặng thành chỉ số BMI (Body Mass Index) – một thước đo chuẩn quốc tế giúp đánh giá mức độ thừa cân, béo phì và từ đó liên hệ đến nguy cơ mắc bệnh tim mạch.Và từ đó tính chiều cao cân nặng thành `bmi`\n",
    "\n"
   ]
  },
  {
   "cell_type": "code",
   "execution_count": 13,
   "metadata": {
    "colab": {
     "base_uri": "https://localhost:8080/",
     "height": 206
    },
    "executionInfo": {
     "elapsed": 40,
     "status": "ok",
     "timestamp": 1752971731956,
     "user": {
      "displayName": "Đạt Nguyễn Thành",
      "userId": "05303533103985890336"
     },
     "user_tz": -420
    },
    "id": "91YVgg5a656t",
    "outputId": "de0f4e01-a65e-4eea-f434-1319472f3e1e"
   },
   "outputs": [
    {
     "data": {
      "application/vnd.google.colaboratory.intrinsic+json": {
       "summary": "{\n  \"name\": \"df_cleaned\",\n  \"rows\": 68946,\n  \"fields\": [\n    {\n      \"column\": \"age_years\",\n      \"properties\": {\n        \"dtype\": \"number\",\n        \"std\": 6,\n        \"min\": 29,\n        \"max\": 64,\n        \"num_unique_values\": 28,\n        \"samples\": [\n          39,\n          41,\n          40\n        ],\n        \"semantic_type\": \"\",\n        \"description\": \"\"\n      }\n    },\n    {\n      \"column\": \"height\",\n      \"properties\": {\n        \"dtype\": \"int32\",\n        \"num_unique_values\": 84,\n        \"samples\": [\n          133,\n          168,\n          120\n        ],\n        \"semantic_type\": \"\",\n        \"description\": \"\"\n      }\n    },\n    {\n      \"column\": \"weight\",\n      \"properties\": {\n        \"dtype\": \"number\",\n        \"std\": 14.282399167029107,\n        \"min\": 30.0,\n        \"max\": 180.0,\n        \"num_unique_values\": 272,\n        \"samples\": [\n          50.0,\n          180.0,\n          42.0\n        ],\n        \"semantic_type\": \"\",\n        \"description\": \"\"\n      }\n    },\n    {\n      \"column\": \"ap_hi\",\n      \"properties\": {\n        \"dtype\": \"int32\",\n        \"num_unique_values\": 119,\n        \"samples\": [\n          136,\n          149,\n          100\n        ],\n        \"semantic_type\": \"\",\n        \"description\": \"\"\n      }\n    },\n    {\n      \"column\": \"ap_lo\",\n      \"properties\": {\n        \"dtype\": \"int32\",\n        \"num_unique_values\": 93,\n        \"samples\": [\n          125,\n          86,\n          113\n        ],\n        \"semantic_type\": \"\",\n        \"description\": \"\"\n      }\n    },\n    {\n      \"column\": \"cholesterol\",\n      \"properties\": {\n        \"dtype\": \"int32\",\n        \"num_unique_values\": 3,\n        \"samples\": [\n          1,\n          3,\n          2\n        ],\n        \"semantic_type\": \"\",\n        \"description\": \"\"\n      }\n    },\n    {\n      \"column\": \"gluc\",\n      \"properties\": {\n        \"dtype\": \"int32\",\n        \"num_unique_values\": 3,\n        \"samples\": [\n          1,\n          2,\n          3\n        ],\n        \"semantic_type\": \"\",\n        \"description\": \"\"\n      }\n    },\n    {\n      \"column\": \"smoke\",\n      \"properties\": {\n        \"dtype\": \"int32\",\n        \"num_unique_values\": 2,\n        \"samples\": [\n          1,\n          0\n        ],\n        \"semantic_type\": \"\",\n        \"description\": \"\"\n      }\n    },\n    {\n      \"column\": \"alco\",\n      \"properties\": {\n        \"dtype\": \"int32\",\n        \"num_unique_values\": 2,\n        \"samples\": [\n          1,\n          0\n        ],\n        \"semantic_type\": \"\",\n        \"description\": \"\"\n      }\n    },\n    {\n      \"column\": \"active\",\n      \"properties\": {\n        \"dtype\": \"int32\",\n        \"num_unique_values\": 2,\n        \"samples\": [\n          0,\n          1\n        ],\n        \"semantic_type\": \"\",\n        \"description\": \"\"\n      }\n    },\n    {\n      \"column\": \"cardio\",\n      \"properties\": {\n        \"dtype\": \"int32\",\n        \"num_unique_values\": 2,\n        \"samples\": [\n          1,\n          0\n        ],\n        \"semantic_type\": \"\",\n        \"description\": \"\"\n      }\n    },\n    {\n      \"column\": \"bmi\",\n      \"properties\": {\n        \"dtype\": \"number\",\n        \"std\": 5.3459883907752035,\n        \"min\": 10.726643598615919,\n        \"max\": 152.55177514792896,\n        \"num_unique_values\": 3748,\n        \"samples\": [\n          25.45111384369012,\n          23.47303046603746\n        ],\n        \"semantic_type\": \"\",\n        \"description\": \"\"\n      }\n    }\n  ]\n}",
       "type": "dataframe",
       "variable_name": "df_cleaned"
      },
      "text/html": [
       "\n",
       "  <div id=\"df-3eb88633-40c7-430e-9bd9-8421ec8b62a8\" class=\"colab-df-container\">\n",
       "    <div>\n",
       "<style scoped>\n",
       "    .dataframe tbody tr th:only-of-type {\n",
       "        vertical-align: middle;\n",
       "    }\n",
       "\n",
       "    .dataframe tbody tr th {\n",
       "        vertical-align: top;\n",
       "    }\n",
       "\n",
       "    .dataframe thead th {\n",
       "        text-align: right;\n",
       "    }\n",
       "</style>\n",
       "<table border=\"1\" class=\"dataframe\">\n",
       "  <thead>\n",
       "    <tr style=\"text-align: right;\">\n",
       "      <th></th>\n",
       "      <th>age_years</th>\n",
       "      <th>height</th>\n",
       "      <th>weight</th>\n",
       "      <th>ap_hi</th>\n",
       "      <th>ap_lo</th>\n",
       "      <th>cholesterol</th>\n",
       "      <th>gluc</th>\n",
       "      <th>smoke</th>\n",
       "      <th>alco</th>\n",
       "      <th>active</th>\n",
       "      <th>cardio</th>\n",
       "      <th>bmi</th>\n",
       "    </tr>\n",
       "  </thead>\n",
       "  <tbody>\n",
       "    <tr>\n",
       "      <th>0</th>\n",
       "      <td>50</td>\n",
       "      <td>168</td>\n",
       "      <td>62.0</td>\n",
       "      <td>110</td>\n",
       "      <td>80</td>\n",
       "      <td>1</td>\n",
       "      <td>1</td>\n",
       "      <td>0</td>\n",
       "      <td>0</td>\n",
       "      <td>1</td>\n",
       "      <td>0</td>\n",
       "      <td>21.967120</td>\n",
       "    </tr>\n",
       "    <tr>\n",
       "      <th>1</th>\n",
       "      <td>55</td>\n",
       "      <td>156</td>\n",
       "      <td>85.0</td>\n",
       "      <td>140</td>\n",
       "      <td>90</td>\n",
       "      <td>3</td>\n",
       "      <td>1</td>\n",
       "      <td>0</td>\n",
       "      <td>0</td>\n",
       "      <td>1</td>\n",
       "      <td>1</td>\n",
       "      <td>34.927679</td>\n",
       "    </tr>\n",
       "    <tr>\n",
       "      <th>2</th>\n",
       "      <td>51</td>\n",
       "      <td>165</td>\n",
       "      <td>64.0</td>\n",
       "      <td>130</td>\n",
       "      <td>70</td>\n",
       "      <td>3</td>\n",
       "      <td>1</td>\n",
       "      <td>0</td>\n",
       "      <td>0</td>\n",
       "      <td>0</td>\n",
       "      <td>1</td>\n",
       "      <td>23.507805</td>\n",
       "    </tr>\n",
       "    <tr>\n",
       "      <th>3</th>\n",
       "      <td>48</td>\n",
       "      <td>169</td>\n",
       "      <td>82.0</td>\n",
       "      <td>150</td>\n",
       "      <td>100</td>\n",
       "      <td>1</td>\n",
       "      <td>1</td>\n",
       "      <td>0</td>\n",
       "      <td>0</td>\n",
       "      <td>1</td>\n",
       "      <td>1</td>\n",
       "      <td>28.710479</td>\n",
       "    </tr>\n",
       "    <tr>\n",
       "      <th>4</th>\n",
       "      <td>47</td>\n",
       "      <td>156</td>\n",
       "      <td>56.0</td>\n",
       "      <td>100</td>\n",
       "      <td>60</td>\n",
       "      <td>1</td>\n",
       "      <td>1</td>\n",
       "      <td>0</td>\n",
       "      <td>0</td>\n",
       "      <td>0</td>\n",
       "      <td>0</td>\n",
       "      <td>23.011177</td>\n",
       "    </tr>\n",
       "  </tbody>\n",
       "</table>\n",
       "</div>\n",
       "    <div class=\"colab-df-buttons\">\n",
       "\n",
       "  <div class=\"colab-df-container\">\n",
       "    <button class=\"colab-df-convert\" onclick=\"convertToInteractive('df-3eb88633-40c7-430e-9bd9-8421ec8b62a8')\"\n",
       "            title=\"Convert this dataframe to an interactive table.\"\n",
       "            style=\"display:none;\">\n",
       "\n",
       "  <svg xmlns=\"http://www.w3.org/2000/svg\" height=\"24px\" viewBox=\"0 -960 960 960\">\n",
       "    <path d=\"M120-120v-720h720v720H120Zm60-500h600v-160H180v160Zm220 220h160v-160H400v160Zm0 220h160v-160H400v160ZM180-400h160v-160H180v160Zm440 0h160v-160H620v160ZM180-180h160v-160H180v160Zm440 0h160v-160H620v160Z\"/>\n",
       "  </svg>\n",
       "    </button>\n",
       "\n",
       "  <style>\n",
       "    .colab-df-container {\n",
       "      display:flex;\n",
       "      gap: 12px;\n",
       "    }\n",
       "\n",
       "    .colab-df-convert {\n",
       "      background-color: #E8F0FE;\n",
       "      border: none;\n",
       "      border-radius: 50%;\n",
       "      cursor: pointer;\n",
       "      display: none;\n",
       "      fill: #1967D2;\n",
       "      height: 32px;\n",
       "      padding: 0 0 0 0;\n",
       "      width: 32px;\n",
       "    }\n",
       "\n",
       "    .colab-df-convert:hover {\n",
       "      background-color: #E2EBFA;\n",
       "      box-shadow: 0px 1px 2px rgba(60, 64, 67, 0.3), 0px 1px 3px 1px rgba(60, 64, 67, 0.15);\n",
       "      fill: #174EA6;\n",
       "    }\n",
       "\n",
       "    .colab-df-buttons div {\n",
       "      margin-bottom: 4px;\n",
       "    }\n",
       "\n",
       "    [theme=dark] .colab-df-convert {\n",
       "      background-color: #3B4455;\n",
       "      fill: #D2E3FC;\n",
       "    }\n",
       "\n",
       "    [theme=dark] .colab-df-convert:hover {\n",
       "      background-color: #434B5C;\n",
       "      box-shadow: 0px 1px 3px 1px rgba(0, 0, 0, 0.15);\n",
       "      filter: drop-shadow(0px 1px 2px rgba(0, 0, 0, 0.3));\n",
       "      fill: #FFFFFF;\n",
       "    }\n",
       "  </style>\n",
       "\n",
       "    <script>\n",
       "      const buttonEl =\n",
       "        document.querySelector('#df-3eb88633-40c7-430e-9bd9-8421ec8b62a8 button.colab-df-convert');\n",
       "      buttonEl.style.display =\n",
       "        google.colab.kernel.accessAllowed ? 'block' : 'none';\n",
       "\n",
       "      async function convertToInteractive(key) {\n",
       "        const element = document.querySelector('#df-3eb88633-40c7-430e-9bd9-8421ec8b62a8');\n",
       "        const dataTable =\n",
       "          await google.colab.kernel.invokeFunction('convertToInteractive',\n",
       "                                                    [key], {});\n",
       "        if (!dataTable) return;\n",
       "\n",
       "        const docLinkHtml = 'Like what you see? Visit the ' +\n",
       "          '<a target=\"_blank\" href=https://colab.research.google.com/notebooks/data_table.ipynb>data table notebook</a>'\n",
       "          + ' to learn more about interactive tables.';\n",
       "        element.innerHTML = '';\n",
       "        dataTable['output_type'] = 'display_data';\n",
       "        await google.colab.output.renderOutput(dataTable, element);\n",
       "        const docLink = document.createElement('div');\n",
       "        docLink.innerHTML = docLinkHtml;\n",
       "        element.appendChild(docLink);\n",
       "      }\n",
       "    </script>\n",
       "  </div>\n",
       "\n",
       "\n",
       "    <div id=\"df-e61a9793-6c33-4e4b-a0c3-6b25b4d283e9\">\n",
       "      <button class=\"colab-df-quickchart\" onclick=\"quickchart('df-e61a9793-6c33-4e4b-a0c3-6b25b4d283e9')\"\n",
       "                title=\"Suggest charts\"\n",
       "                style=\"display:none;\">\n",
       "\n",
       "<svg xmlns=\"http://www.w3.org/2000/svg\" height=\"24px\"viewBox=\"0 0 24 24\"\n",
       "     width=\"24px\">\n",
       "    <g>\n",
       "        <path d=\"M19 3H5c-1.1 0-2 .9-2 2v14c0 1.1.9 2 2 2h14c1.1 0 2-.9 2-2V5c0-1.1-.9-2-2-2zM9 17H7v-7h2v7zm4 0h-2V7h2v10zm4 0h-2v-4h2v4z\"/>\n",
       "    </g>\n",
       "</svg>\n",
       "      </button>\n",
       "\n",
       "<style>\n",
       "  .colab-df-quickchart {\n",
       "      --bg-color: #E8F0FE;\n",
       "      --fill-color: #1967D2;\n",
       "      --hover-bg-color: #E2EBFA;\n",
       "      --hover-fill-color: #174EA6;\n",
       "      --disabled-fill-color: #AAA;\n",
       "      --disabled-bg-color: #DDD;\n",
       "  }\n",
       "\n",
       "  [theme=dark] .colab-df-quickchart {\n",
       "      --bg-color: #3B4455;\n",
       "      --fill-color: #D2E3FC;\n",
       "      --hover-bg-color: #434B5C;\n",
       "      --hover-fill-color: #FFFFFF;\n",
       "      --disabled-bg-color: #3B4455;\n",
       "      --disabled-fill-color: #666;\n",
       "  }\n",
       "\n",
       "  .colab-df-quickchart {\n",
       "    background-color: var(--bg-color);\n",
       "    border: none;\n",
       "    border-radius: 50%;\n",
       "    cursor: pointer;\n",
       "    display: none;\n",
       "    fill: var(--fill-color);\n",
       "    height: 32px;\n",
       "    padding: 0;\n",
       "    width: 32px;\n",
       "  }\n",
       "\n",
       "  .colab-df-quickchart:hover {\n",
       "    background-color: var(--hover-bg-color);\n",
       "    box-shadow: 0 1px 2px rgba(60, 64, 67, 0.3), 0 1px 3px 1px rgba(60, 64, 67, 0.15);\n",
       "    fill: var(--button-hover-fill-color);\n",
       "  }\n",
       "\n",
       "  .colab-df-quickchart-complete:disabled,\n",
       "  .colab-df-quickchart-complete:disabled:hover {\n",
       "    background-color: var(--disabled-bg-color);\n",
       "    fill: var(--disabled-fill-color);\n",
       "    box-shadow: none;\n",
       "  }\n",
       "\n",
       "  .colab-df-spinner {\n",
       "    border: 2px solid var(--fill-color);\n",
       "    border-color: transparent;\n",
       "    border-bottom-color: var(--fill-color);\n",
       "    animation:\n",
       "      spin 1s steps(1) infinite;\n",
       "  }\n",
       "\n",
       "  @keyframes spin {\n",
       "    0% {\n",
       "      border-color: transparent;\n",
       "      border-bottom-color: var(--fill-color);\n",
       "      border-left-color: var(--fill-color);\n",
       "    }\n",
       "    20% {\n",
       "      border-color: transparent;\n",
       "      border-left-color: var(--fill-color);\n",
       "      border-top-color: var(--fill-color);\n",
       "    }\n",
       "    30% {\n",
       "      border-color: transparent;\n",
       "      border-left-color: var(--fill-color);\n",
       "      border-top-color: var(--fill-color);\n",
       "      border-right-color: var(--fill-color);\n",
       "    }\n",
       "    40% {\n",
       "      border-color: transparent;\n",
       "      border-right-color: var(--fill-color);\n",
       "      border-top-color: var(--fill-color);\n",
       "    }\n",
       "    60% {\n",
       "      border-color: transparent;\n",
       "      border-right-color: var(--fill-color);\n",
       "    }\n",
       "    80% {\n",
       "      border-color: transparent;\n",
       "      border-right-color: var(--fill-color);\n",
       "      border-bottom-color: var(--fill-color);\n",
       "    }\n",
       "    90% {\n",
       "      border-color: transparent;\n",
       "      border-bottom-color: var(--fill-color);\n",
       "    }\n",
       "  }\n",
       "</style>\n",
       "\n",
       "      <script>\n",
       "        async function quickchart(key) {\n",
       "          const quickchartButtonEl =\n",
       "            document.querySelector('#' + key + ' button');\n",
       "          quickchartButtonEl.disabled = true;  // To prevent multiple clicks.\n",
       "          quickchartButtonEl.classList.add('colab-df-spinner');\n",
       "          try {\n",
       "            const charts = await google.colab.kernel.invokeFunction(\n",
       "                'suggestCharts', [key], {});\n",
       "          } catch (error) {\n",
       "            console.error('Error during call to suggestCharts:', error);\n",
       "          }\n",
       "          quickchartButtonEl.classList.remove('colab-df-spinner');\n",
       "          quickchartButtonEl.classList.add('colab-df-quickchart-complete');\n",
       "        }\n",
       "        (() => {\n",
       "          let quickchartButtonEl =\n",
       "            document.querySelector('#df-e61a9793-6c33-4e4b-a0c3-6b25b4d283e9 button');\n",
       "          quickchartButtonEl.style.display =\n",
       "            google.colab.kernel.accessAllowed ? 'block' : 'none';\n",
       "        })();\n",
       "      </script>\n",
       "    </div>\n",
       "\n",
       "    </div>\n",
       "  </div>\n"
      ],
      "text/plain": [
       "   age_years  height  weight  ap_hi  ap_lo  cholesterol  gluc  smoke  alco  \\\n",
       "0         50     168    62.0    110     80            1     1      0     0   \n",
       "1         55     156    85.0    140     90            3     1      0     0   \n",
       "2         51     165    64.0    130     70            3     1      0     0   \n",
       "3         48     169    82.0    150    100            1     1      0     0   \n",
       "4         47     156    56.0    100     60            1     1      0     0   \n",
       "\n",
       "   active  cardio        bmi  \n",
       "0       1       0  21.967120  \n",
       "1       1       1  34.927679  \n",
       "2       0       1  23.507805  \n",
       "3       1       1  28.710479  \n",
       "4       0       0  23.011177  "
      ]
     },
     "execution_count": 13,
     "metadata": {},
     "output_type": "execute_result"
    }
   ],
   "source": [
    "df_cleaned = df_pd.copy()\n",
    "df_cleaned[\"bmi\"] = df_cleaned[\"weight\"] / ((df_cleaned[\"height\"] / 100) ** 2)\n",
    "df_cleaned.head()"
   ]
  },
  {
   "cell_type": "code",
   "execution_count": 14,
   "metadata": {
    "colab": {
     "base_uri": "https://localhost:8080/",
     "height": 206
    },
    "executionInfo": {
     "elapsed": 30,
     "status": "ok",
     "timestamp": 1752971731987,
     "user": {
      "displayName": "Đạt Nguyễn Thành",
      "userId": "05303533103985890336"
     },
     "user_tz": -420
    },
    "id": "cZGh-n5P3eCf",
    "outputId": "5315a075-deed-44f3-f91d-70c888d1356e"
   },
   "outputs": [
    {
     "data": {
      "application/vnd.google.colaboratory.intrinsic+json": {
       "summary": "{\n  \"name\": \"df_cleaned\",\n  \"rows\": 68946,\n  \"fields\": [\n    {\n      \"column\": \"age_years\",\n      \"properties\": {\n        \"dtype\": \"number\",\n        \"std\": 6,\n        \"min\": 29,\n        \"max\": 64,\n        \"num_unique_values\": 28,\n        \"samples\": [\n          39,\n          41,\n          40\n        ],\n        \"semantic_type\": \"\",\n        \"description\": \"\"\n      }\n    },\n    {\n      \"column\": \"height\",\n      \"properties\": {\n        \"dtype\": \"int32\",\n        \"num_unique_values\": 84,\n        \"samples\": [\n          133,\n          168,\n          120\n        ],\n        \"semantic_type\": \"\",\n        \"description\": \"\"\n      }\n    },\n    {\n      \"column\": \"weight\",\n      \"properties\": {\n        \"dtype\": \"number\",\n        \"std\": 14.282399167029107,\n        \"min\": 30.0,\n        \"max\": 180.0,\n        \"num_unique_values\": 272,\n        \"samples\": [\n          50.0,\n          180.0,\n          42.0\n        ],\n        \"semantic_type\": \"\",\n        \"description\": \"\"\n      }\n    },\n    {\n      \"column\": \"ap_hi\",\n      \"properties\": {\n        \"dtype\": \"int32\",\n        \"num_unique_values\": 119,\n        \"samples\": [\n          136,\n          149,\n          100\n        ],\n        \"semantic_type\": \"\",\n        \"description\": \"\"\n      }\n    },\n    {\n      \"column\": \"ap_lo\",\n      \"properties\": {\n        \"dtype\": \"int32\",\n        \"num_unique_values\": 93,\n        \"samples\": [\n          125,\n          86,\n          113\n        ],\n        \"semantic_type\": \"\",\n        \"description\": \"\"\n      }\n    },\n    {\n      \"column\": \"cholesterol\",\n      \"properties\": {\n        \"dtype\": \"int32\",\n        \"num_unique_values\": 3,\n        \"samples\": [\n          1,\n          3,\n          2\n        ],\n        \"semantic_type\": \"\",\n        \"description\": \"\"\n      }\n    },\n    {\n      \"column\": \"cardio\",\n      \"properties\": {\n        \"dtype\": \"int32\",\n        \"num_unique_values\": 2,\n        \"samples\": [\n          1,\n          0\n        ],\n        \"semantic_type\": \"\",\n        \"description\": \"\"\n      }\n    }\n  ]\n}",
       "type": "dataframe",
       "variable_name": "df_cleaned"
      },
      "text/html": [
       "\n",
       "  <div id=\"df-ebb382b5-8e4c-4f4e-9b34-1be4f491e0b4\" class=\"colab-df-container\">\n",
       "    <div>\n",
       "<style scoped>\n",
       "    .dataframe tbody tr th:only-of-type {\n",
       "        vertical-align: middle;\n",
       "    }\n",
       "\n",
       "    .dataframe tbody tr th {\n",
       "        vertical-align: top;\n",
       "    }\n",
       "\n",
       "    .dataframe thead th {\n",
       "        text-align: right;\n",
       "    }\n",
       "</style>\n",
       "<table border=\"1\" class=\"dataframe\">\n",
       "  <thead>\n",
       "    <tr style=\"text-align: right;\">\n",
       "      <th></th>\n",
       "      <th>age_years</th>\n",
       "      <th>height</th>\n",
       "      <th>weight</th>\n",
       "      <th>ap_hi</th>\n",
       "      <th>ap_lo</th>\n",
       "      <th>cholesterol</th>\n",
       "      <th>cardio</th>\n",
       "    </tr>\n",
       "  </thead>\n",
       "  <tbody>\n",
       "    <tr>\n",
       "      <th>0</th>\n",
       "      <td>50</td>\n",
       "      <td>168</td>\n",
       "      <td>62.0</td>\n",
       "      <td>110</td>\n",
       "      <td>80</td>\n",
       "      <td>1</td>\n",
       "      <td>0</td>\n",
       "    </tr>\n",
       "    <tr>\n",
       "      <th>1</th>\n",
       "      <td>55</td>\n",
       "      <td>156</td>\n",
       "      <td>85.0</td>\n",
       "      <td>140</td>\n",
       "      <td>90</td>\n",
       "      <td>3</td>\n",
       "      <td>1</td>\n",
       "    </tr>\n",
       "    <tr>\n",
       "      <th>2</th>\n",
       "      <td>51</td>\n",
       "      <td>165</td>\n",
       "      <td>64.0</td>\n",
       "      <td>130</td>\n",
       "      <td>70</td>\n",
       "      <td>3</td>\n",
       "      <td>1</td>\n",
       "    </tr>\n",
       "    <tr>\n",
       "      <th>3</th>\n",
       "      <td>48</td>\n",
       "      <td>169</td>\n",
       "      <td>82.0</td>\n",
       "      <td>150</td>\n",
       "      <td>100</td>\n",
       "      <td>1</td>\n",
       "      <td>1</td>\n",
       "    </tr>\n",
       "    <tr>\n",
       "      <th>4</th>\n",
       "      <td>47</td>\n",
       "      <td>156</td>\n",
       "      <td>56.0</td>\n",
       "      <td>100</td>\n",
       "      <td>60</td>\n",
       "      <td>1</td>\n",
       "      <td>0</td>\n",
       "    </tr>\n",
       "  </tbody>\n",
       "</table>\n",
       "</div>\n",
       "    <div class=\"colab-df-buttons\">\n",
       "\n",
       "  <div class=\"colab-df-container\">\n",
       "    <button class=\"colab-df-convert\" onclick=\"convertToInteractive('df-ebb382b5-8e4c-4f4e-9b34-1be4f491e0b4')\"\n",
       "            title=\"Convert this dataframe to an interactive table.\"\n",
       "            style=\"display:none;\">\n",
       "\n",
       "  <svg xmlns=\"http://www.w3.org/2000/svg\" height=\"24px\" viewBox=\"0 -960 960 960\">\n",
       "    <path d=\"M120-120v-720h720v720H120Zm60-500h600v-160H180v160Zm220 220h160v-160H400v160Zm0 220h160v-160H400v160ZM180-400h160v-160H180v160Zm440 0h160v-160H620v160ZM180-180h160v-160H180v160Zm440 0h160v-160H620v160Z\"/>\n",
       "  </svg>\n",
       "    </button>\n",
       "\n",
       "  <style>\n",
       "    .colab-df-container {\n",
       "      display:flex;\n",
       "      gap: 12px;\n",
       "    }\n",
       "\n",
       "    .colab-df-convert {\n",
       "      background-color: #E8F0FE;\n",
       "      border: none;\n",
       "      border-radius: 50%;\n",
       "      cursor: pointer;\n",
       "      display: none;\n",
       "      fill: #1967D2;\n",
       "      height: 32px;\n",
       "      padding: 0 0 0 0;\n",
       "      width: 32px;\n",
       "    }\n",
       "\n",
       "    .colab-df-convert:hover {\n",
       "      background-color: #E2EBFA;\n",
       "      box-shadow: 0px 1px 2px rgba(60, 64, 67, 0.3), 0px 1px 3px 1px rgba(60, 64, 67, 0.15);\n",
       "      fill: #174EA6;\n",
       "    }\n",
       "\n",
       "    .colab-df-buttons div {\n",
       "      margin-bottom: 4px;\n",
       "    }\n",
       "\n",
       "    [theme=dark] .colab-df-convert {\n",
       "      background-color: #3B4455;\n",
       "      fill: #D2E3FC;\n",
       "    }\n",
       "\n",
       "    [theme=dark] .colab-df-convert:hover {\n",
       "      background-color: #434B5C;\n",
       "      box-shadow: 0px 1px 3px 1px rgba(0, 0, 0, 0.15);\n",
       "      filter: drop-shadow(0px 1px 2px rgba(0, 0, 0, 0.3));\n",
       "      fill: #FFFFFF;\n",
       "    }\n",
       "  </style>\n",
       "\n",
       "    <script>\n",
       "      const buttonEl =\n",
       "        document.querySelector('#df-ebb382b5-8e4c-4f4e-9b34-1be4f491e0b4 button.colab-df-convert');\n",
       "      buttonEl.style.display =\n",
       "        google.colab.kernel.accessAllowed ? 'block' : 'none';\n",
       "\n",
       "      async function convertToInteractive(key) {\n",
       "        const element = document.querySelector('#df-ebb382b5-8e4c-4f4e-9b34-1be4f491e0b4');\n",
       "        const dataTable =\n",
       "          await google.colab.kernel.invokeFunction('convertToInteractive',\n",
       "                                                    [key], {});\n",
       "        if (!dataTable) return;\n",
       "\n",
       "        const docLinkHtml = 'Like what you see? Visit the ' +\n",
       "          '<a target=\"_blank\" href=https://colab.research.google.com/notebooks/data_table.ipynb>data table notebook</a>'\n",
       "          + ' to learn more about interactive tables.';\n",
       "        element.innerHTML = '';\n",
       "        dataTable['output_type'] = 'display_data';\n",
       "        await google.colab.output.renderOutput(dataTable, element);\n",
       "        const docLink = document.createElement('div');\n",
       "        docLink.innerHTML = docLinkHtml;\n",
       "        element.appendChild(docLink);\n",
       "      }\n",
       "    </script>\n",
       "  </div>\n",
       "\n",
       "\n",
       "    <div id=\"df-c2e3c832-73e2-4a14-a938-4057dbd5f1db\">\n",
       "      <button class=\"colab-df-quickchart\" onclick=\"quickchart('df-c2e3c832-73e2-4a14-a938-4057dbd5f1db')\"\n",
       "                title=\"Suggest charts\"\n",
       "                style=\"display:none;\">\n",
       "\n",
       "<svg xmlns=\"http://www.w3.org/2000/svg\" height=\"24px\"viewBox=\"0 0 24 24\"\n",
       "     width=\"24px\">\n",
       "    <g>\n",
       "        <path d=\"M19 3H5c-1.1 0-2 .9-2 2v14c0 1.1.9 2 2 2h14c1.1 0 2-.9 2-2V5c0-1.1-.9-2-2-2zM9 17H7v-7h2v7zm4 0h-2V7h2v10zm4 0h-2v-4h2v4z\"/>\n",
       "    </g>\n",
       "</svg>\n",
       "      </button>\n",
       "\n",
       "<style>\n",
       "  .colab-df-quickchart {\n",
       "      --bg-color: #E8F0FE;\n",
       "      --fill-color: #1967D2;\n",
       "      --hover-bg-color: #E2EBFA;\n",
       "      --hover-fill-color: #174EA6;\n",
       "      --disabled-fill-color: #AAA;\n",
       "      --disabled-bg-color: #DDD;\n",
       "  }\n",
       "\n",
       "  [theme=dark] .colab-df-quickchart {\n",
       "      --bg-color: #3B4455;\n",
       "      --fill-color: #D2E3FC;\n",
       "      --hover-bg-color: #434B5C;\n",
       "      --hover-fill-color: #FFFFFF;\n",
       "      --disabled-bg-color: #3B4455;\n",
       "      --disabled-fill-color: #666;\n",
       "  }\n",
       "\n",
       "  .colab-df-quickchart {\n",
       "    background-color: var(--bg-color);\n",
       "    border: none;\n",
       "    border-radius: 50%;\n",
       "    cursor: pointer;\n",
       "    display: none;\n",
       "    fill: var(--fill-color);\n",
       "    height: 32px;\n",
       "    padding: 0;\n",
       "    width: 32px;\n",
       "  }\n",
       "\n",
       "  .colab-df-quickchart:hover {\n",
       "    background-color: var(--hover-bg-color);\n",
       "    box-shadow: 0 1px 2px rgba(60, 64, 67, 0.3), 0 1px 3px 1px rgba(60, 64, 67, 0.15);\n",
       "    fill: var(--button-hover-fill-color);\n",
       "  }\n",
       "\n",
       "  .colab-df-quickchart-complete:disabled,\n",
       "  .colab-df-quickchart-complete:disabled:hover {\n",
       "    background-color: var(--disabled-bg-color);\n",
       "    fill: var(--disabled-fill-color);\n",
       "    box-shadow: none;\n",
       "  }\n",
       "\n",
       "  .colab-df-spinner {\n",
       "    border: 2px solid var(--fill-color);\n",
       "    border-color: transparent;\n",
       "    border-bottom-color: var(--fill-color);\n",
       "    animation:\n",
       "      spin 1s steps(1) infinite;\n",
       "  }\n",
       "\n",
       "  @keyframes spin {\n",
       "    0% {\n",
       "      border-color: transparent;\n",
       "      border-bottom-color: var(--fill-color);\n",
       "      border-left-color: var(--fill-color);\n",
       "    }\n",
       "    20% {\n",
       "      border-color: transparent;\n",
       "      border-left-color: var(--fill-color);\n",
       "      border-top-color: var(--fill-color);\n",
       "    }\n",
       "    30% {\n",
       "      border-color: transparent;\n",
       "      border-left-color: var(--fill-color);\n",
       "      border-top-color: var(--fill-color);\n",
       "      border-right-color: var(--fill-color);\n",
       "    }\n",
       "    40% {\n",
       "      border-color: transparent;\n",
       "      border-right-color: var(--fill-color);\n",
       "      border-top-color: var(--fill-color);\n",
       "    }\n",
       "    60% {\n",
       "      border-color: transparent;\n",
       "      border-right-color: var(--fill-color);\n",
       "    }\n",
       "    80% {\n",
       "      border-color: transparent;\n",
       "      border-right-color: var(--fill-color);\n",
       "      border-bottom-color: var(--fill-color);\n",
       "    }\n",
       "    90% {\n",
       "      border-color: transparent;\n",
       "      border-bottom-color: var(--fill-color);\n",
       "    }\n",
       "  }\n",
       "</style>\n",
       "\n",
       "      <script>\n",
       "        async function quickchart(key) {\n",
       "          const quickchartButtonEl =\n",
       "            document.querySelector('#' + key + ' button');\n",
       "          quickchartButtonEl.disabled = true;  // To prevent multiple clicks.\n",
       "          quickchartButtonEl.classList.add('colab-df-spinner');\n",
       "          try {\n",
       "            const charts = await google.colab.kernel.invokeFunction(\n",
       "                'suggestCharts', [key], {});\n",
       "          } catch (error) {\n",
       "            console.error('Error during call to suggestCharts:', error);\n",
       "          }\n",
       "          quickchartButtonEl.classList.remove('colab-df-spinner');\n",
       "          quickchartButtonEl.classList.add('colab-df-quickchart-complete');\n",
       "        }\n",
       "        (() => {\n",
       "          let quickchartButtonEl =\n",
       "            document.querySelector('#df-c2e3c832-73e2-4a14-a938-4057dbd5f1db button');\n",
       "          quickchartButtonEl.style.display =\n",
       "            google.colab.kernel.accessAllowed ? 'block' : 'none';\n",
       "        })();\n",
       "      </script>\n",
       "    </div>\n",
       "\n",
       "    </div>\n",
       "  </div>\n"
      ],
      "text/plain": [
       "   age_years  height  weight  ap_hi  ap_lo  cholesterol  cardio\n",
       "0         50     168    62.0    110     80            1       0\n",
       "1         55     156    85.0    140     90            3       1\n",
       "2         51     165    64.0    130     70            3       1\n",
       "3         48     169    82.0    150    100            1       1\n",
       "4         47     156    56.0    100     60            1       0"
      ]
     },
     "execution_count": 14,
     "metadata": {},
     "output_type": "execute_result"
    }
   ],
   "source": [
    "df_cleaned = df_pd.drop(columns=[ \"gluc\",\"smoke\", \"alco\", \"active\"])\n",
    "df_cleaned.head()"
   ]
  },
  {
   "cell_type": "code",
   "execution_count": 15,
   "metadata": {
    "colab": {
     "base_uri": "https://localhost:8080/",
     "height": 206
    },
    "executionInfo": {
     "elapsed": 29,
     "status": "ok",
     "timestamp": 1752971732018,
     "user": {
      "displayName": "Đạt Nguyễn Thành",
      "userId": "05303533103985890336"
     },
     "user_tz": -420
    },
    "id": "4DImM1HxJ11P",
    "outputId": "d0d8299c-7cf8-45b5-a9bf-cacfae59a7ee"
   },
   "outputs": [
    {
     "data": {
      "application/vnd.google.colaboratory.intrinsic+json": {
       "summary": "{\n  \"name\": \"df_cleaned\",\n  \"rows\": 68946,\n  \"fields\": [\n    {\n      \"column\": \"age_years\",\n      \"properties\": {\n        \"dtype\": \"number\",\n        \"std\": 6,\n        \"min\": 29,\n        \"max\": 64,\n        \"num_unique_values\": 28,\n        \"samples\": [\n          39,\n          41,\n          40\n        ],\n        \"semantic_type\": \"\",\n        \"description\": \"\"\n      }\n    },\n    {\n      \"column\": \"height\",\n      \"properties\": {\n        \"dtype\": \"int32\",\n        \"num_unique_values\": 84,\n        \"samples\": [\n          133,\n          168,\n          120\n        ],\n        \"semantic_type\": \"\",\n        \"description\": \"\"\n      }\n    },\n    {\n      \"column\": \"weight\",\n      \"properties\": {\n        \"dtype\": \"number\",\n        \"std\": 14.282399167029107,\n        \"min\": 30.0,\n        \"max\": 180.0,\n        \"num_unique_values\": 272,\n        \"samples\": [\n          50.0,\n          180.0,\n          42.0\n        ],\n        \"semantic_type\": \"\",\n        \"description\": \"\"\n      }\n    },\n    {\n      \"column\": \"ap_hi\",\n      \"properties\": {\n        \"dtype\": \"int32\",\n        \"num_unique_values\": 119,\n        \"samples\": [\n          136,\n          149,\n          100\n        ],\n        \"semantic_type\": \"\",\n        \"description\": \"\"\n      }\n    },\n    {\n      \"column\": \"ap_lo\",\n      \"properties\": {\n        \"dtype\": \"int32\",\n        \"num_unique_values\": 93,\n        \"samples\": [\n          125,\n          86,\n          113\n        ],\n        \"semantic_type\": \"\",\n        \"description\": \"\"\n      }\n    },\n    {\n      \"column\": \"cholesterol\",\n      \"properties\": {\n        \"dtype\": \"int32\",\n        \"num_unique_values\": 3,\n        \"samples\": [\n          1,\n          3,\n          2\n        ],\n        \"semantic_type\": \"\",\n        \"description\": \"\"\n      }\n    },\n    {\n      \"column\": \"cardio\",\n      \"properties\": {\n        \"dtype\": \"int32\",\n        \"num_unique_values\": 2,\n        \"samples\": [\n          1,\n          0\n        ],\n        \"semantic_type\": \"\",\n        \"description\": \"\"\n      }\n    },\n    {\n      \"column\": \"bmi\",\n      \"properties\": {\n        \"dtype\": \"number\",\n        \"std\": 5.3459883907752035,\n        \"min\": 10.726643598615919,\n        \"max\": 152.55177514792896,\n        \"num_unique_values\": 3748,\n        \"samples\": [\n          25.45111384369012,\n          23.47303046603746\n        ],\n        \"semantic_type\": \"\",\n        \"description\": \"\"\n      }\n    }\n  ]\n}",
       "type": "dataframe",
       "variable_name": "df_cleaned"
      },
      "text/html": [
       "\n",
       "  <div id=\"df-53def014-3dd6-4217-b592-53d6af92e93b\" class=\"colab-df-container\">\n",
       "    <div>\n",
       "<style scoped>\n",
       "    .dataframe tbody tr th:only-of-type {\n",
       "        vertical-align: middle;\n",
       "    }\n",
       "\n",
       "    .dataframe tbody tr th {\n",
       "        vertical-align: top;\n",
       "    }\n",
       "\n",
       "    .dataframe thead th {\n",
       "        text-align: right;\n",
       "    }\n",
       "</style>\n",
       "<table border=\"1\" class=\"dataframe\">\n",
       "  <thead>\n",
       "    <tr style=\"text-align: right;\">\n",
       "      <th></th>\n",
       "      <th>age_years</th>\n",
       "      <th>height</th>\n",
       "      <th>weight</th>\n",
       "      <th>ap_hi</th>\n",
       "      <th>ap_lo</th>\n",
       "      <th>cholesterol</th>\n",
       "      <th>cardio</th>\n",
       "      <th>bmi</th>\n",
       "    </tr>\n",
       "  </thead>\n",
       "  <tbody>\n",
       "    <tr>\n",
       "      <th>0</th>\n",
       "      <td>50</td>\n",
       "      <td>168</td>\n",
       "      <td>62.0</td>\n",
       "      <td>110</td>\n",
       "      <td>80</td>\n",
       "      <td>1</td>\n",
       "      <td>0</td>\n",
       "      <td>21.967120</td>\n",
       "    </tr>\n",
       "    <tr>\n",
       "      <th>1</th>\n",
       "      <td>55</td>\n",
       "      <td>156</td>\n",
       "      <td>85.0</td>\n",
       "      <td>140</td>\n",
       "      <td>90</td>\n",
       "      <td>3</td>\n",
       "      <td>1</td>\n",
       "      <td>34.927679</td>\n",
       "    </tr>\n",
       "    <tr>\n",
       "      <th>2</th>\n",
       "      <td>51</td>\n",
       "      <td>165</td>\n",
       "      <td>64.0</td>\n",
       "      <td>130</td>\n",
       "      <td>70</td>\n",
       "      <td>3</td>\n",
       "      <td>1</td>\n",
       "      <td>23.507805</td>\n",
       "    </tr>\n",
       "    <tr>\n",
       "      <th>3</th>\n",
       "      <td>48</td>\n",
       "      <td>169</td>\n",
       "      <td>82.0</td>\n",
       "      <td>150</td>\n",
       "      <td>100</td>\n",
       "      <td>1</td>\n",
       "      <td>1</td>\n",
       "      <td>28.710479</td>\n",
       "    </tr>\n",
       "    <tr>\n",
       "      <th>4</th>\n",
       "      <td>47</td>\n",
       "      <td>156</td>\n",
       "      <td>56.0</td>\n",
       "      <td>100</td>\n",
       "      <td>60</td>\n",
       "      <td>1</td>\n",
       "      <td>0</td>\n",
       "      <td>23.011177</td>\n",
       "    </tr>\n",
       "  </tbody>\n",
       "</table>\n",
       "</div>\n",
       "    <div class=\"colab-df-buttons\">\n",
       "\n",
       "  <div class=\"colab-df-container\">\n",
       "    <button class=\"colab-df-convert\" onclick=\"convertToInteractive('df-53def014-3dd6-4217-b592-53d6af92e93b')\"\n",
       "            title=\"Convert this dataframe to an interactive table.\"\n",
       "            style=\"display:none;\">\n",
       "\n",
       "  <svg xmlns=\"http://www.w3.org/2000/svg\" height=\"24px\" viewBox=\"0 -960 960 960\">\n",
       "    <path d=\"M120-120v-720h720v720H120Zm60-500h600v-160H180v160Zm220 220h160v-160H400v160Zm0 220h160v-160H400v160ZM180-400h160v-160H180v160Zm440 0h160v-160H620v160ZM180-180h160v-160H180v160Zm440 0h160v-160H620v160Z\"/>\n",
       "  </svg>\n",
       "    </button>\n",
       "\n",
       "  <style>\n",
       "    .colab-df-container {\n",
       "      display:flex;\n",
       "      gap: 12px;\n",
       "    }\n",
       "\n",
       "    .colab-df-convert {\n",
       "      background-color: #E8F0FE;\n",
       "      border: none;\n",
       "      border-radius: 50%;\n",
       "      cursor: pointer;\n",
       "      display: none;\n",
       "      fill: #1967D2;\n",
       "      height: 32px;\n",
       "      padding: 0 0 0 0;\n",
       "      width: 32px;\n",
       "    }\n",
       "\n",
       "    .colab-df-convert:hover {\n",
       "      background-color: #E2EBFA;\n",
       "      box-shadow: 0px 1px 2px rgba(60, 64, 67, 0.3), 0px 1px 3px 1px rgba(60, 64, 67, 0.15);\n",
       "      fill: #174EA6;\n",
       "    }\n",
       "\n",
       "    .colab-df-buttons div {\n",
       "      margin-bottom: 4px;\n",
       "    }\n",
       "\n",
       "    [theme=dark] .colab-df-convert {\n",
       "      background-color: #3B4455;\n",
       "      fill: #D2E3FC;\n",
       "    }\n",
       "\n",
       "    [theme=dark] .colab-df-convert:hover {\n",
       "      background-color: #434B5C;\n",
       "      box-shadow: 0px 1px 3px 1px rgba(0, 0, 0, 0.15);\n",
       "      filter: drop-shadow(0px 1px 2px rgba(0, 0, 0, 0.3));\n",
       "      fill: #FFFFFF;\n",
       "    }\n",
       "  </style>\n",
       "\n",
       "    <script>\n",
       "      const buttonEl =\n",
       "        document.querySelector('#df-53def014-3dd6-4217-b592-53d6af92e93b button.colab-df-convert');\n",
       "      buttonEl.style.display =\n",
       "        google.colab.kernel.accessAllowed ? 'block' : 'none';\n",
       "\n",
       "      async function convertToInteractive(key) {\n",
       "        const element = document.querySelector('#df-53def014-3dd6-4217-b592-53d6af92e93b');\n",
       "        const dataTable =\n",
       "          await google.colab.kernel.invokeFunction('convertToInteractive',\n",
       "                                                    [key], {});\n",
       "        if (!dataTable) return;\n",
       "\n",
       "        const docLinkHtml = 'Like what you see? Visit the ' +\n",
       "          '<a target=\"_blank\" href=https://colab.research.google.com/notebooks/data_table.ipynb>data table notebook</a>'\n",
       "          + ' to learn more about interactive tables.';\n",
       "        element.innerHTML = '';\n",
       "        dataTable['output_type'] = 'display_data';\n",
       "        await google.colab.output.renderOutput(dataTable, element);\n",
       "        const docLink = document.createElement('div');\n",
       "        docLink.innerHTML = docLinkHtml;\n",
       "        element.appendChild(docLink);\n",
       "      }\n",
       "    </script>\n",
       "  </div>\n",
       "\n",
       "\n",
       "    <div id=\"df-0b46253c-310e-4a8a-a791-e7c5a878f3bc\">\n",
       "      <button class=\"colab-df-quickchart\" onclick=\"quickchart('df-0b46253c-310e-4a8a-a791-e7c5a878f3bc')\"\n",
       "                title=\"Suggest charts\"\n",
       "                style=\"display:none;\">\n",
       "\n",
       "<svg xmlns=\"http://www.w3.org/2000/svg\" height=\"24px\"viewBox=\"0 0 24 24\"\n",
       "     width=\"24px\">\n",
       "    <g>\n",
       "        <path d=\"M19 3H5c-1.1 0-2 .9-2 2v14c0 1.1.9 2 2 2h14c1.1 0 2-.9 2-2V5c0-1.1-.9-2-2-2zM9 17H7v-7h2v7zm4 0h-2V7h2v10zm4 0h-2v-4h2v4z\"/>\n",
       "    </g>\n",
       "</svg>\n",
       "      </button>\n",
       "\n",
       "<style>\n",
       "  .colab-df-quickchart {\n",
       "      --bg-color: #E8F0FE;\n",
       "      --fill-color: #1967D2;\n",
       "      --hover-bg-color: #E2EBFA;\n",
       "      --hover-fill-color: #174EA6;\n",
       "      --disabled-fill-color: #AAA;\n",
       "      --disabled-bg-color: #DDD;\n",
       "  }\n",
       "\n",
       "  [theme=dark] .colab-df-quickchart {\n",
       "      --bg-color: #3B4455;\n",
       "      --fill-color: #D2E3FC;\n",
       "      --hover-bg-color: #434B5C;\n",
       "      --hover-fill-color: #FFFFFF;\n",
       "      --disabled-bg-color: #3B4455;\n",
       "      --disabled-fill-color: #666;\n",
       "  }\n",
       "\n",
       "  .colab-df-quickchart {\n",
       "    background-color: var(--bg-color);\n",
       "    border: none;\n",
       "    border-radius: 50%;\n",
       "    cursor: pointer;\n",
       "    display: none;\n",
       "    fill: var(--fill-color);\n",
       "    height: 32px;\n",
       "    padding: 0;\n",
       "    width: 32px;\n",
       "  }\n",
       "\n",
       "  .colab-df-quickchart:hover {\n",
       "    background-color: var(--hover-bg-color);\n",
       "    box-shadow: 0 1px 2px rgba(60, 64, 67, 0.3), 0 1px 3px 1px rgba(60, 64, 67, 0.15);\n",
       "    fill: var(--button-hover-fill-color);\n",
       "  }\n",
       "\n",
       "  .colab-df-quickchart-complete:disabled,\n",
       "  .colab-df-quickchart-complete:disabled:hover {\n",
       "    background-color: var(--disabled-bg-color);\n",
       "    fill: var(--disabled-fill-color);\n",
       "    box-shadow: none;\n",
       "  }\n",
       "\n",
       "  .colab-df-spinner {\n",
       "    border: 2px solid var(--fill-color);\n",
       "    border-color: transparent;\n",
       "    border-bottom-color: var(--fill-color);\n",
       "    animation:\n",
       "      spin 1s steps(1) infinite;\n",
       "  }\n",
       "\n",
       "  @keyframes spin {\n",
       "    0% {\n",
       "      border-color: transparent;\n",
       "      border-bottom-color: var(--fill-color);\n",
       "      border-left-color: var(--fill-color);\n",
       "    }\n",
       "    20% {\n",
       "      border-color: transparent;\n",
       "      border-left-color: var(--fill-color);\n",
       "      border-top-color: var(--fill-color);\n",
       "    }\n",
       "    30% {\n",
       "      border-color: transparent;\n",
       "      border-left-color: var(--fill-color);\n",
       "      border-top-color: var(--fill-color);\n",
       "      border-right-color: var(--fill-color);\n",
       "    }\n",
       "    40% {\n",
       "      border-color: transparent;\n",
       "      border-right-color: var(--fill-color);\n",
       "      border-top-color: var(--fill-color);\n",
       "    }\n",
       "    60% {\n",
       "      border-color: transparent;\n",
       "      border-right-color: var(--fill-color);\n",
       "    }\n",
       "    80% {\n",
       "      border-color: transparent;\n",
       "      border-right-color: var(--fill-color);\n",
       "      border-bottom-color: var(--fill-color);\n",
       "    }\n",
       "    90% {\n",
       "      border-color: transparent;\n",
       "      border-bottom-color: var(--fill-color);\n",
       "    }\n",
       "  }\n",
       "</style>\n",
       "\n",
       "      <script>\n",
       "        async function quickchart(key) {\n",
       "          const quickchartButtonEl =\n",
       "            document.querySelector('#' + key + ' button');\n",
       "          quickchartButtonEl.disabled = true;  // To prevent multiple clicks.\n",
       "          quickchartButtonEl.classList.add('colab-df-spinner');\n",
       "          try {\n",
       "            const charts = await google.colab.kernel.invokeFunction(\n",
       "                'suggestCharts', [key], {});\n",
       "          } catch (error) {\n",
       "            console.error('Error during call to suggestCharts:', error);\n",
       "          }\n",
       "          quickchartButtonEl.classList.remove('colab-df-spinner');\n",
       "          quickchartButtonEl.classList.add('colab-df-quickchart-complete');\n",
       "        }\n",
       "        (() => {\n",
       "          let quickchartButtonEl =\n",
       "            document.querySelector('#df-0b46253c-310e-4a8a-a791-e7c5a878f3bc button');\n",
       "          quickchartButtonEl.style.display =\n",
       "            google.colab.kernel.accessAllowed ? 'block' : 'none';\n",
       "        })();\n",
       "      </script>\n",
       "    </div>\n",
       "\n",
       "    </div>\n",
       "  </div>\n"
      ],
      "text/plain": [
       "   age_years  height  weight  ap_hi  ap_lo  cholesterol  cardio        bmi\n",
       "0         50     168    62.0    110     80            1       0  21.967120\n",
       "1         55     156    85.0    140     90            3       1  34.927679\n",
       "2         51     165    64.0    130     70            3       1  23.507805\n",
       "3         48     169    82.0    150    100            1       1  28.710479\n",
       "4         47     156    56.0    100     60            1       0  23.011177"
      ]
     },
     "execution_count": 15,
     "metadata": {},
     "output_type": "execute_result"
    }
   ],
   "source": [
    "df_cleaned[\"bmi\"] = df_cleaned[\"weight\"] / ((df_cleaned[\"height\"] / 100) ** 2)\n",
    "df_cleaned.head()"
   ]
  },
  {
   "cell_type": "code",
   "execution_count": 16,
   "metadata": {
    "colab": {
     "base_uri": "https://localhost:8080/",
     "height": 1000
    },
    "executionInfo": {
     "elapsed": 4936,
     "status": "ok",
     "timestamp": 1752971736956,
     "user": {
      "displayName": "Đạt Nguyễn Thành",
      "userId": "05303533103985890336"
     },
     "user_tz": -420
    },
    "id": "gdR5M1dxzQY5",
    "outputId": "10500419-a444-4534-950f-45efca2c82ae"
   },
   "outputs": [
    {
     "data": {
      "image/png": "[encoded data removed]",
      "text/plain": [
       "<Figure size 1000x400 with 2 Axes>"
      ]
     },
     "metadata": {},
     "output_type": "display_data"
    },
    {
     "data": {
      "image/png": "[encoded data removed]",
      "text/plain": [
       "<Figure size 1000x400 with 2 Axes>"
      ]
     },
     "metadata": {},
     "output_type": "display_data"
    },
    {
     "data": {
      "image/png": "[encoded data removed]",
      "text/plain": [
       "<Figure size 1000x400 with 2 Axes>"
      ]
     },
     "metadata": {},
     "output_type": "display_data"
    },
    {
     "data": {
      "image/png": "[encoded data removed]",
      "text/plain": [
       "<Figure size 1000x400 with 2 Axes>"
      ]
     },
     "metadata": {},
     "output_type": "display_data"
    },
    {
     "data": {
      "image/png": "[encoded data removed]",
      "text/plain": [
       "<Figure size 1000x400 with 2 Axes>"
      ]
     },
     "metadata": {},
     "output_type": "display_data"
    },
    {
     "data": {
      "image/png": "[encoded data removed]",
      "text/plain": [
       "<Figure size 1000x400 with 2 Axes>"
      ]
     },
     "metadata": {},
     "output_type": "display_data"
    },
    {
     "data": {
      "image/png": "[encoded data removed]",
      "text/plain": [
       "<Figure size 1000x400 with 2 Axes>"
      ]
     },
     "metadata": {},
     "output_type": "display_data"
    }
   ],
   "source": [
    "for col in df_cleaned.columns:\n",
    "    if col != \"cardio\":\n",
    "        fig, axs = plt.subplots(1, 2, figsize=(10, 4))\n",
    "\n",
    "        # Tính IQR để phát hiện outlier\n",
    "        Q1 = df_cleaned[col].quantile(0.25)\n",
    "        Q3 = df_cleaned[col].quantile(0.75)\n",
    "        IQR = Q3 - Q1\n",
    "        lower_bound = Q1 - 1.5 * IQR\n",
    "        upper_bound = Q3 + 1.5 * IQR\n",
    "\n",
    "        outliers = df_cleaned[(df_cleaned[col] < lower_bound) | (df_cleaned[col] > upper_bound)][col]\n",
    "        num_outliers = outliers.count()\n",
    "\n",
    "        # Vẽ boxplot\n",
    "        sns.boxplot(y=df_cleaned[col], ax=axs[0])\n",
    "        axs[0].set_title(f'Boxplot: {col}')\n",
    "        axs[0].set_ylabel(col)\n",
    "\n",
    "        # Thêm chú thích số lượng outlier\n",
    "        axs[0].annotate(f'Outliers: {num_outliers}',\n",
    "                        xy=(0.05, 0.95), xycoords='axes fraction',\n",
    "                        fontsize=10, color='red', backgroundcolor='white')\n",
    "\n",
    "        # Vẽ histogram\n",
    "        axs[1].hist(df_cleaned[col].dropna(), bins=20, edgecolor='black', color='skyblue')\n",
    "        axs[1].set_title(f'Histogram: {col}')\n",
    "        axs[1].set_xlabel(col)\n",
    "        axs[1].set_ylabel(\"Số lượng\")\n",
    "\n",
    "        plt.tight_layout()\n",
    "        plt.show()"
   ]
  },
  {
   "cell_type": "markdown",
   "metadata": {
    "id": "o9AOxCQt96rG"
   },
   "source": [
    "Sau khi phân tích dữ liệu, nhóm phát hiện sự xuất hiện của nhiều giá trị bất thường (outliers) ở các cột sau:\n",
    "\n",
    "age_years (Tuổi)\n",
    "\n",
    "Số lượng outliers: 4\n",
    "\n",
    "Các giá trị bất thường thuộc nhóm người quá trẻ so với phần lớn dữ liệu (ví dụ: dưới 40 tuổi).\n",
    "\n",
    "Vì dữ liệu khá ổn định và chỉ lệch phải nhẹ, không cần xử lý.\n",
    "\n",
    "height (Chiều cao)\n",
    "\n",
    "Số lượng outliers: 482\n",
    "\n",
    "Một số giá trị thấp dưới 140 cm hoặc cao trên 190 cm có thể là do sai sót nhập liệu hoặc thể trạng đặc biệt.\n",
    "\n",
    "Nhóm quyết định giữ lại các giá trị này để tránh loại bỏ những trường hợp hợp lý hiếm gặp.\n",
    "\n",
    "weight (Cân nặng)\n",
    "\n",
    "Số lượng outliers: 1,739\n",
    "\n",
    "Xuất hiện rải rác ở cả hai đầu: nhẹ cân (< 40 kg) và béo phì (> 120 kg). Phân phối lệch phải, phản ánh rõ nhóm người thừa cân.\n",
    "\n",
    "Các giá trị này được giữ lại để phân tích mối liên hệ giữa thừa cân và bệnh tim mạch.\n",
    "\n",
    "ap_hi (Huyết áp tâm thu)\n",
    "\n",
    "Số lượng outliers: 1,243\n",
    "\n",
    "Ghi nhận các giá trị bất thường rất thấp (~10–20) hoặc quá cao (> 180), trong đó một số trường hợp rõ ràng là lỗi nhập liệu.\n",
    "\n",
    "Nhóm sẽ thay thế các giá trị bất hợp lý bằng NaN và áp dụng mô hình học máy để dự đoán, hiệu chỉnh giá trị phù hợp.\n",
    "\n",
    "ap_lo (Huyết áp tâm trương)\n",
    "\n",
    "Số lượng outliers: 3,647\n",
    "\n",
    "Có nhiều giá trị thấp bất thường (< 40) hoặc cao vượt mức bình thường (> 110), ảnh hưởng tới độ tin cậy của mô hình.\n",
    "\n",
    "Cần xử lý tương tự như ap_hi bằng cách gán NaN và hiệu chỉnh sau.\n",
    "\n",
    "cholesterol (Cholesterol)\n",
    "\n",
    "Số lượng outliers: 17,232\n",
    "\n",
    "Dù đây là biến rời rạc, các mức cao (2 hoặc 3) chiếm tỷ lệ nhỏ nên được coi là bất thường về tần suất.\n",
    "\n",
    "Tuy nhiên, nhóm vẫn giữ lại vì đây là đặc điểm lâm sàng quan trọng, có thể liên quan chặt chẽ đến bệnh tim mạch.\n",
    "\n",
    "BMI (Chỉ số khối cơ thể)\n",
    "\n",
    "Số lượng outliers: 1,998\n",
    "\n",
    "Các giá trị cực cao > 60 hoặc cực thấp < 15 có thể bắt nguồn từ lỗi tính toán hoặc tình trạng sức khỏe đặc biệt.\n",
    "\n",
    "Nhiều khả năng các giá trị này xuất phát từ dữ liệu chiều cao/cân nặng, do đó cần kiểm tra kết hợp trước khi quyết định xử lý.\n"
   ]
  },
  {
   "cell_type": "code",
   "execution_count": 17,
   "metadata": {
    "executionInfo": {
     "elapsed": 7233,
     "status": "ok",
     "timestamp": 1752971744191,
     "user": {
      "displayName": "Đạt Nguyễn Thành",
      "userId": "05303533103985890336"
     },
     "user_tz": -420
    },
    "id": "JTax09N8DWCu"
   },
   "outputs": [],
   "source": [
    "spark = SparkSession.builder.appName(\"OutlierHandling\").getOrCreate()\n",
    "df_spark = spark.createDataFrame(df_cleaned)"
   ]
  },
  {
   "cell_type": "code",
   "execution_count": 18,
   "metadata": {
    "colab": {
     "base_uri": "https://localhost:8080/"
    },
    "executionInfo": {
     "elapsed": 3674,
     "status": "ok",
     "timestamp": 1752971747864,
     "user": {
      "displayName": "Đạt Nguyễn Thành",
      "userId": "05303533103985890336"
     },
     "user_tz": -420
    },
    "id": "drOzRir1FvKu",
    "outputId": "01abf2e9-7e52-4151-8c0c-c67ff8f70108"
   },
   "outputs": [
    {
     "name": "stdout",
     "output_type": "stream",
     "text": [
      "Số dòng sau khi lọc: 68908\n",
      "Số dòng cần dự đoán lại ap_hi: 243\n"
     ]
    }
   ],
   "source": [
    "from pyspark.sql.functions import col,expr\n",
    "df_filtered = df_spark.filter(\n",
    "    (col(\"bmi\").between(13, 60)) &\n",
    "    (col(\"age_years\").between(18, 90)))\n",
    "# Gán giá trị bất thường của ap_hi thành null\n",
    "df_filtered = df_filtered.withColumn(\n",
    "    \"ap_hi\",\n",
    "    expr(\"CASE WHEN ap_hi < 80 OR ap_hi > 200 THEN NULL ELSE ap_hi END\")\n",
    ")\n",
    "print(\"Số dòng sau khi lọc:\", df_filtered.count())\n",
    "print(\"Số dòng cần dự đoán lại ap_hi:\", df_filtered.filter(col(\"ap_hi\").isNull()).count())"
   ]
  },
  {
   "cell_type": "markdown",
   "metadata": {
    "id": "JjdYD4bvPq_h"
   },
   "source": [
    "Với cột `ap_hi`, nhóm quyết định thay thế outlier bằng NaN và dùng mô hình dự đoán để khôi phục các giá trị hợp lý vì:\n",
    "- Dễ nhận diện lỗi nhập liệu nghiêm trọng (ví dụ < 20 hoặc > 240).\n",
    "- Có mối quan hệ mạnh với các biến như `age_years`, `bmi`, `ap_lo`...\n",
    "- Ảnh hưởng trực tiếp đến phân tích bệnh lý tim mạch.\n"
   ]
  },
  {
   "cell_type": "code",
   "execution_count": 19,
   "metadata": {
    "colab": {
     "base_uri": "https://localhost:8080/"
    },
    "executionInfo": {
     "elapsed": 32214,
     "status": "ok",
     "timestamp": 1752971780080,
     "user": {
      "displayName": "Đạt Nguyễn Thành",
      "userId": "05303533103985890336"
     },
     "user_tz": -420
    },
    "id": "xGztOrab48qy",
    "outputId": "e76e4f2b-c053-4b8d-90ea-60cadfbdbf03"
   },
   "outputs": [
    {
     "name": "stdout",
     "output_type": "stream",
     "text": [
      "Số dòng còn thiếu ap_hi sau khi dự đoán: 0\n"
     ]
    }
   ],
   "source": [
    "from sklearn.ensemble import RandomForestRegressor\n",
    "from sklearn.impute import SimpleImputer\n",
    "\n",
    "# Bước 1: Lọc dữ liệu có ap_hi bị thiếu\n",
    "df_predict = df_filtered.toPandas()\n",
    "# Bước 2: Chọn các biến dự đoán\n",
    "feature_cols = ['age_years', 'height', 'weight', 'ap_lo', 'cholesterol', 'bmi']\n",
    "df_model = df_predict[feature_cols + ['ap_hi']].copy()\n",
    "\n",
    "# Bước 3: Tách dữ liệu train/test\n",
    "train_data = df_model[df_model['ap_hi'].notna()]\n",
    "test_data = df_model[df_model['ap_hi'].isna()]\n",
    "\n",
    "x_train = train_data[feature_cols]\n",
    "y_train = train_data['ap_hi']\n",
    "x_test = test_data[feature_cols]\n",
    "\n",
    "# Xử lý thiếu trong x\n",
    "imp = SimpleImputer(strategy=\"mean\")\n",
    "x_train_imp = imp.fit_transform(x_train)\n",
    "x_test_imp = imp.transform(x_test)\n",
    "\n",
    "# Bước 4: Huấn luyện mô hình\n",
    "model = RandomForestRegressor(n_estimators=100, random_state=42)\n",
    "model.fit(x_train_imp, y_train)\n",
    "\n",
    "# Dự đoán giá trị thiếu\n",
    "predicted_ap_hi = model.predict(x_test_imp)\n",
    "\n",
    "# Bước 5: Gán lại vào df_predict\n",
    "df_predict.loc[df_predict['ap_hi'].isna(), 'ap_hi'] = predicted_ap_hi\n",
    "\n",
    "# Kiểm tra lại\n",
    "print(\"Số dòng còn thiếu ap_hi sau khi dự đoán:\", df_predict['ap_hi'].isna().sum())"
   ]
  },
  {
   "cell_type": "code",
   "execution_count": 20,
   "metadata": {
    "colab": {
     "base_uri": "https://localhost:8080/",
     "height": 766
    },
    "executionInfo": {
     "elapsed": 640,
     "status": "ok",
     "timestamp": 1752971780714,
     "user": {
      "displayName": "Đạt Nguyễn Thành",
      "userId": "05303533103985890336"
     },
     "user_tz": -420
    },
    "id": "YD2qTMIN8cwj",
    "outputId": "74037e3b-4812-4a81-ac9f-51b31e672576"
   },
   "outputs": [
    {
     "data": {
      "image/png": "[encoded data removed]",
      "text/plain": [
       "<Figure size 600x400 with 1 Axes>"
      ]
     },
     "metadata": {},
     "output_type": "display_data"
    },
    {
     "data": {
      "image/png": "[encoded data removed]",
      "text/plain": [
       "<Figure size 600x400 with 1 Axes>"
      ]
     },
     "metadata": {},
     "output_type": "display_data"
    }
   ],
   "source": [
    "# Boxplot\n",
    "plt.figure(figsize=(6,4))\n",
    "sns.boxplot(y=df_predict['ap_hi'])\n",
    "plt.title(\"Boxplot ap_hi sau dự đoán\")\n",
    "plt.show()\n",
    "\n",
    "# Histogram\n",
    "plt.figure(figsize=(6,4))\n",
    "plt.hist(df_predict['ap_hi'], bins=30, edgecolor='black', color='skyblue')\n",
    "plt.title(\"Histogram ap_hi sau dự đoán\")\n",
    "plt.xlabel(\"ap_hi\")\n",
    "plt.ylabel(\"Số lượng\")\n",
    "plt.show()\n"
   ]
  },
  {
   "cell_type": "markdown",
   "metadata": {
    "id": "Hza5eUspvq07"
   },
   "source": [
    "##Kiểm tra lại"
   ]
  },
  {
   "cell_type": "code",
   "execution_count": 21,
   "metadata": {
    "colab": {
     "base_uri": "https://localhost:8080/",
     "height": 300
    },
    "executionInfo": {
     "elapsed": 68,
     "status": "ok",
     "timestamp": 1752971780779,
     "user": {
      "displayName": "Đạt Nguyễn Thành",
      "userId": "05303533103985890336"
     },
     "user_tz": -420
    },
    "id": "jzAPMRjcvqVW",
    "outputId": "5678ab9c-1f8b-4d06-e6d6-0b26ab110907"
   },
   "outputs": [
    {
     "data": {
      "application/vnd.google.colaboratory.intrinsic+json": {
       "summary": "{\n  \"name\": \"df_predict\",\n  \"rows\": 8,\n  \"fields\": [\n    {\n      \"column\": \"age_years\",\n      \"properties\": {\n        \"dtype\": \"number\",\n        \"std\": 24346.926086057814,\n        \"min\": 6.768655810977952,\n        \"max\": 68908.0,\n        \"num_unique_values\": 8,\n        \"samples\": [\n          52.82658036802693,\n          53.0,\n          68908.0\n        ],\n        \"semantic_type\": \"\",\n        \"description\": \"\"\n      }\n    },\n    {\n      \"column\": \"height\",\n      \"properties\": {\n        \"dtype\": \"number\",\n        \"std\": 24313.57208341189,\n        \"min\": 7.934722631752022,\n        \"max\": 68908.0,\n        \"num_unique_values\": 8,\n        \"samples\": [\n          164.41046032391014,\n          165.0,\n          68908.0\n        ],\n        \"semantic_type\": \"\",\n        \"description\": \"\"\n      }\n    },\n    {\n      \"column\": \"weight\",\n      \"properties\": {\n        \"dtype\": \"number\",\n        \"std\": 24336.58005175335,\n        \"min\": 14.192562185949813,\n        \"max\": 68908.0,\n        \"num_unique_values\": 8,\n        \"samples\": [\n          74.08739043362164,\n          72.0,\n          68908.0\n        ],\n        \"semantic_type\": \"\",\n        \"description\": \"\"\n      }\n    },\n    {\n      \"column\": \"ap_hi\",\n      \"properties\": {\n        \"dtype\": \"number\",\n        \"std\": 24322.14767960536,\n        \"min\": 16.564941613883345,\n        \"max\": 68908.0,\n        \"num_unique_values\": 7,\n        \"samples\": [\n          68908.0,\n          126.58119479329844,\n          140.0\n        ],\n        \"semantic_type\": \"\",\n        \"description\": \"\"\n      }\n    },\n    {\n      \"column\": \"ap_lo\",\n      \"properties\": {\n        \"dtype\": \"number\",\n        \"std\": 24335.847627123545,\n        \"min\": 1.0,\n        \"max\": 68908.0,\n        \"num_unique_values\": 7,\n        \"samples\": [\n          68908.0,\n          81.34988680559587,\n          90.0\n        ],\n        \"semantic_type\": \"\",\n        \"description\": \"\"\n      }\n    },\n    {\n      \"column\": \"cholesterol\",\n      \"properties\": {\n        \"dtype\": \"number\",\n        \"std\": 24362.200296196654,\n        \"min\": 0.6787714610614916,\n        \"max\": 68908.0,\n        \"num_unique_values\": 5,\n        \"samples\": [\n          1.3644859813084111,\n          3.0,\n          0.6787714610614916\n        ],\n        \"semantic_type\": \"\",\n        \"description\": \"\"\n      }\n    },\n    {\n      \"column\": \"cardio\",\n      \"properties\": {\n        \"dtype\": \"number\",\n        \"std\": 24362.505778078135,\n        \"min\": 0.0,\n        \"max\": 68908.0,\n        \"num_unique_values\": 5,\n        \"samples\": [\n          0.4949062518140129,\n          1.0,\n          0.4999776809331093\n        ],\n        \"semantic_type\": \"\",\n        \"description\": \"\"\n      }\n    },\n    {\n      \"column\": \"bmi\",\n      \"properties\": {\n        \"dtype\": \"number\",\n        \"std\": 24353.243241350436,\n        \"min\": 5.207011119628891,\n        \"max\": 68908.0,\n        \"num_unique_values\": 8,\n        \"samples\": [\n          27.44837918534531,\n          26.346494034400994,\n          68908.0\n        ],\n        \"semantic_type\": \"\",\n        \"description\": \"\"\n      }\n    }\n  ]\n}",
       "type": "dataframe"
      },
      "text/html": [
       "\n",
       "  <div id=\"df-48682f7e-9f5a-4d80-a09c-ac8e1406a2d8\" class=\"colab-df-container\">\n",
       "    <div>\n",
       "<style scoped>\n",
       "    .dataframe tbody tr th:only-of-type {\n",
       "        vertical-align: middle;\n",
       "    }\n",
       "\n",
       "    .dataframe tbody tr th {\n",
       "        vertical-align: top;\n",
       "    }\n",
       "\n",
       "    .dataframe thead th {\n",
       "        text-align: right;\n",
       "    }\n",
       "</style>\n",
       "<table border=\"1\" class=\"dataframe\">\n",
       "  <thead>\n",
       "    <tr style=\"text-align: right;\">\n",
       "      <th></th>\n",
       "      <th>age_years</th>\n",
       "      <th>height</th>\n",
       "      <th>weight</th>\n",
       "      <th>ap_hi</th>\n",
       "      <th>ap_lo</th>\n",
       "      <th>cholesterol</th>\n",
       "      <th>cardio</th>\n",
       "      <th>bmi</th>\n",
       "    </tr>\n",
       "  </thead>\n",
       "  <tbody>\n",
       "    <tr>\n",
       "      <th>count</th>\n",
       "      <td>68908.000000</td>\n",
       "      <td>68908.000000</td>\n",
       "      <td>68908.000000</td>\n",
       "      <td>68908.000000</td>\n",
       "      <td>68908.000000</td>\n",
       "      <td>68908.000000</td>\n",
       "      <td>68908.000000</td>\n",
       "      <td>68908.000000</td>\n",
       "    </tr>\n",
       "    <tr>\n",
       "      <th>mean</th>\n",
       "      <td>52.826580</td>\n",
       "      <td>164.410460</td>\n",
       "      <td>74.087390</td>\n",
       "      <td>126.581195</td>\n",
       "      <td>81.349887</td>\n",
       "      <td>1.364486</td>\n",
       "      <td>0.494906</td>\n",
       "      <td>27.448379</td>\n",
       "    </tr>\n",
       "    <tr>\n",
       "      <th>std</th>\n",
       "      <td>6.768656</td>\n",
       "      <td>7.934723</td>\n",
       "      <td>14.192562</td>\n",
       "      <td>16.564942</td>\n",
       "      <td>9.801078</td>\n",
       "      <td>0.678771</td>\n",
       "      <td>0.499978</td>\n",
       "      <td>5.207011</td>\n",
       "    </tr>\n",
       "    <tr>\n",
       "      <th>min</th>\n",
       "      <td>29.000000</td>\n",
       "      <td>100.000000</td>\n",
       "      <td>30.000000</td>\n",
       "      <td>80.000000</td>\n",
       "      <td>1.000000</td>\n",
       "      <td>1.000000</td>\n",
       "      <td>0.000000</td>\n",
       "      <td>13.493001</td>\n",
       "    </tr>\n",
       "    <tr>\n",
       "      <th>25%</th>\n",
       "      <td>48.000000</td>\n",
       "      <td>159.000000</td>\n",
       "      <td>65.000000</td>\n",
       "      <td>120.000000</td>\n",
       "      <td>80.000000</td>\n",
       "      <td>1.000000</td>\n",
       "      <td>0.000000</td>\n",
       "      <td>23.875115</td>\n",
       "    </tr>\n",
       "    <tr>\n",
       "      <th>50%</th>\n",
       "      <td>53.000000</td>\n",
       "      <td>165.000000</td>\n",
       "      <td>72.000000</td>\n",
       "      <td>120.000000</td>\n",
       "      <td>80.000000</td>\n",
       "      <td>1.000000</td>\n",
       "      <td>0.000000</td>\n",
       "      <td>26.346494</td>\n",
       "    </tr>\n",
       "    <tr>\n",
       "      <th>75%</th>\n",
       "      <td>58.000000</td>\n",
       "      <td>170.000000</td>\n",
       "      <td>82.000000</td>\n",
       "      <td>140.000000</td>\n",
       "      <td>90.000000</td>\n",
       "      <td>1.000000</td>\n",
       "      <td>1.000000</td>\n",
       "      <td>30.116213</td>\n",
       "    </tr>\n",
       "    <tr>\n",
       "      <th>max</th>\n",
       "      <td>64.000000</td>\n",
       "      <td>207.000000</td>\n",
       "      <td>180.000000</td>\n",
       "      <td>200.000000</td>\n",
       "      <td>190.000000</td>\n",
       "      <td>3.000000</td>\n",
       "      <td>1.000000</td>\n",
       "      <td>60.000000</td>\n",
       "    </tr>\n",
       "  </tbody>\n",
       "</table>\n",
       "</div>\n",
       "    <div class=\"colab-df-buttons\">\n",
       "\n",
       "  <div class=\"colab-df-container\">\n",
       "    <button class=\"colab-df-convert\" onclick=\"convertToInteractive('df-48682f7e-9f5a-4d80-a09c-ac8e1406a2d8')\"\n",
       "            title=\"Convert this dataframe to an interactive table.\"\n",
       "            style=\"display:none;\">\n",
       "\n",
       "  <svg xmlns=\"http://www.w3.org/2000/svg\" height=\"24px\" viewBox=\"0 -960 960 960\">\n",
       "    <path d=\"M120-120v-720h720v720H120Zm60-500h600v-160H180v160Zm220 220h160v-160H400v160Zm0 220h160v-160H400v160ZM180-400h160v-160H180v160Zm440 0h160v-160H620v160ZM180-180h160v-160H180v160Zm440 0h160v-160H620v160Z\"/>\n",
       "  </svg>\n",
       "    </button>\n",
       "\n",
       "  <style>\n",
       "    .colab-df-container {\n",
       "      display:flex;\n",
       "      gap: 12px;\n",
       "    }\n",
       "\n",
       "    .colab-df-convert {\n",
       "      background-color: #E8F0FE;\n",
       "      border: none;\n",
       "      border-radius: 50%;\n",
       "      cursor: pointer;\n",
       "      display: none;\n",
       "      fill: #1967D2;\n",
       "      height: 32px;\n",
       "      padding: 0 0 0 0;\n",
       "      width: 32px;\n",
       "    }\n",
       "\n",
       "    .colab-df-convert:hover {\n",
       "      background-color: #E2EBFA;\n",
       "      box-shadow: 0px 1px 2px rgba(60, 64, 67, 0.3), 0px 1px 3px 1px rgba(60, 64, 67, 0.15);\n",
       "      fill: #174EA6;\n",
       "    }\n",
       "\n",
       "    .colab-df-buttons div {\n",
       "      margin-bottom: 4px;\n",
       "    }\n",
       "\n",
       "    [theme=dark] .colab-df-convert {\n",
       "      background-color: #3B4455;\n",
       "      fill: #D2E3FC;\n",
       "    }\n",
       "\n",
       "    [theme=dark] .colab-df-convert:hover {\n",
       "      background-color: #434B5C;\n",
       "      box-shadow: 0px 1px 3px 1px rgba(0, 0, 0, 0.15);\n",
       "      filter: drop-shadow(0px 1px 2px rgba(0, 0, 0, 0.3));\n",
       "      fill: #FFFFFF;\n",
       "    }\n",
       "  </style>\n",
       "\n",
       "    <script>\n",
       "      const buttonEl =\n",
       "        document.querySelector('#df-48682f7e-9f5a-4d80-a09c-ac8e1406a2d8 button.colab-df-convert');\n",
       "      buttonEl.style.display =\n",
       "        google.colab.kernel.accessAllowed ? 'block' : 'none';\n",
       "\n",
       "      async function convertToInteractive(key) {\n",
       "        const element = document.querySelector('#df-48682f7e-9f5a-4d80-a09c-ac8e1406a2d8');\n",
       "        const dataTable =\n",
       "          await google.colab.kernel.invokeFunction('convertToInteractive',\n",
       "                                                    [key], {});\n",
       "        if (!dataTable) return;\n",
       "\n",
       "        const docLinkHtml = 'Like what you see? Visit the ' +\n",
       "          '<a target=\"_blank\" href=https://colab.research.google.com/notebooks/data_table.ipynb>data table notebook</a>'\n",
       "          + ' to learn more about interactive tables.';\n",
       "        element.innerHTML = '';\n",
       "        dataTable['output_type'] = 'display_data';\n",
       "        await google.colab.output.renderOutput(dataTable, element);\n",
       "        const docLink = document.createElement('div');\n",
       "        docLink.innerHTML = docLinkHtml;\n",
       "        element.appendChild(docLink);\n",
       "      }\n",
       "    </script>\n",
       "  </div>\n",
       "\n",
       "\n",
       "    <div id=\"df-109b4a35-3e12-4d74-bf1f-63ade9801cf8\">\n",
       "      <button class=\"colab-df-quickchart\" onclick=\"quickchart('df-109b4a35-3e12-4d74-bf1f-63ade9801cf8')\"\n",
       "                title=\"Suggest charts\"\n",
       "                style=\"display:none;\">\n",
       "\n",
       "<svg xmlns=\"http://www.w3.org/2000/svg\" height=\"24px\"viewBox=\"0 0 24 24\"\n",
       "     width=\"24px\">\n",
       "    <g>\n",
       "        <path d=\"M19 3H5c-1.1 0-2 .9-2 2v14c0 1.1.9 2 2 2h14c1.1 0 2-.9 2-2V5c0-1.1-.9-2-2-2zM9 17H7v-7h2v7zm4 0h-2V7h2v10zm4 0h-2v-4h2v4z\"/>\n",
       "    </g>\n",
       "</svg>\n",
       "      </button>\n",
       "\n",
       "<style>\n",
       "  .colab-df-quickchart {\n",
       "      --bg-color: #E8F0FE;\n",
       "      --fill-color: #1967D2;\n",
       "      --hover-bg-color: #E2EBFA;\n",
       "      --hover-fill-color: #174EA6;\n",
       "      --disabled-fill-color: #AAA;\n",
       "      --disabled-bg-color: #DDD;\n",
       "  }\n",
       "\n",
       "  [theme=dark] .colab-df-quickchart {\n",
       "      --bg-color: #3B4455;\n",
       "      --fill-color: #D2E3FC;\n",
       "      --hover-bg-color: #434B5C;\n",
       "      --hover-fill-color: #FFFFFF;\n",
       "      --disabled-bg-color: #3B4455;\n",
       "      --disabled-fill-color: #666;\n",
       "  }\n",
       "\n",
       "  .colab-df-quickchart {\n",
       "    background-color: var(--bg-color);\n",
       "    border: none;\n",
       "    border-radius: 50%;\n",
       "    cursor: pointer;\n",
       "    display: none;\n",
       "    fill: var(--fill-color);\n",
       "    height: 32px;\n",
       "    padding: 0;\n",
       "    width: 32px;\n",
       "  }\n",
       "\n",
       "  .colab-df-quickchart:hover {\n",
       "    background-color: var(--hover-bg-color);\n",
       "    box-shadow: 0 1px 2px rgba(60, 64, 67, 0.3), 0 1px 3px 1px rgba(60, 64, 67, 0.15);\n",
       "    fill: var(--button-hover-fill-color);\n",
       "  }\n",
       "\n",
       "  .colab-df-quickchart-complete:disabled,\n",
       "  .colab-df-quickchart-complete:disabled:hover {\n",
       "    background-color: var(--disabled-bg-color);\n",
       "    fill: var(--disabled-fill-color);\n",
       "    box-shadow: none;\n",
       "  }\n",
       "\n",
       "  .colab-df-spinner {\n",
       "    border: 2px solid var(--fill-color);\n",
       "    border-color: transparent;\n",
       "    border-bottom-color: var(--fill-color);\n",
       "    animation:\n",
       "      spin 1s steps(1) infinite;\n",
       "  }\n",
       "\n",
       "  @keyframes spin {\n",
       "    0% {\n",
       "      border-color: transparent;\n",
       "      border-bottom-color: var(--fill-color);\n",
       "      border-left-color: var(--fill-color);\n",
       "    }\n",
       "    20% {\n",
       "      border-color: transparent;\n",
       "      border-left-color: var(--fill-color);\n",
       "      border-top-color: var(--fill-color);\n",
       "    }\n",
       "    30% {\n",
       "      border-color: transparent;\n",
       "      border-left-color: var(--fill-color);\n",
       "      border-top-color: var(--fill-color);\n",
       "      border-right-color: var(--fill-color);\n",
       "    }\n",
       "    40% {\n",
       "      border-color: transparent;\n",
       "      border-right-color: var(--fill-color);\n",
       "      border-top-color: var(--fill-color);\n",
       "    }\n",
       "    60% {\n",
       "      border-color: transparent;\n",
       "      border-right-color: var(--fill-color);\n",
       "    }\n",
       "    80% {\n",
       "      border-color: transparent;\n",
       "      border-right-color: var(--fill-color);\n",
       "      border-bottom-color: var(--fill-color);\n",
       "    }\n",
       "    90% {\n",
       "      border-color: transparent;\n",
       "      border-bottom-color: var(--fill-color);\n",
       "    }\n",
       "  }\n",
       "</style>\n",
       "\n",
       "      <script>\n",
       "        async function quickchart(key) {\n",
       "          const quickchartButtonEl =\n",
       "            document.querySelector('#' + key + ' button');\n",
       "          quickchartButtonEl.disabled = true;  // To prevent multiple clicks.\n",
       "          quickchartButtonEl.classList.add('colab-df-spinner');\n",
       "          try {\n",
       "            const charts = await google.colab.kernel.invokeFunction(\n",
       "                'suggestCharts', [key], {});\n",
       "          } catch (error) {\n",
       "            console.error('Error during call to suggestCharts:', error);\n",
       "          }\n",
       "          quickchartButtonEl.classList.remove('colab-df-spinner');\n",
       "          quickchartButtonEl.classList.add('colab-df-quickchart-complete');\n",
       "        }\n",
       "        (() => {\n",
       "          let quickchartButtonEl =\n",
       "            document.querySelector('#df-109b4a35-3e12-4d74-bf1f-63ade9801cf8 button');\n",
       "          quickchartButtonEl.style.display =\n",
       "            google.colab.kernel.accessAllowed ? 'block' : 'none';\n",
       "        })();\n",
       "      </script>\n",
       "    </div>\n",
       "\n",
       "    </div>\n",
       "  </div>\n"
      ],
      "text/plain": [
       "          age_years        height        weight         ap_hi         ap_lo  \\\n",
       "count  68908.000000  68908.000000  68908.000000  68908.000000  68908.000000   \n",
       "mean      52.826580    164.410460     74.087390    126.581195     81.349887   \n",
       "std        6.768656      7.934723     14.192562     16.564942      9.801078   \n",
       "min       29.000000    100.000000     30.000000     80.000000      1.000000   \n",
       "25%       48.000000    159.000000     65.000000    120.000000     80.000000   \n",
       "50%       53.000000    165.000000     72.000000    120.000000     80.000000   \n",
       "75%       58.000000    170.000000     82.000000    140.000000     90.000000   \n",
       "max       64.000000    207.000000    180.000000    200.000000    190.000000   \n",
       "\n",
       "        cholesterol        cardio           bmi  \n",
       "count  68908.000000  68908.000000  68908.000000  \n",
       "mean       1.364486      0.494906     27.448379  \n",
       "std        0.678771      0.499978      5.207011  \n",
       "min        1.000000      0.000000     13.493001  \n",
       "25%        1.000000      0.000000     23.875115  \n",
       "50%        1.000000      0.000000     26.346494  \n",
       "75%        1.000000      1.000000     30.116213  \n",
       "max        3.000000      1.000000     60.000000  "
      ]
     },
     "execution_count": 21,
     "metadata": {},
     "output_type": "execute_result"
    }
   ],
   "source": [
    "df_predict.describe()"
   ]
  },
  {
   "cell_type": "markdown",
   "metadata": {
    "id": "c7gsO3FhxVKx"
   },
   "source": [
    "Mặc dù một số giá trị như height = 207 cm, weight = 180 kg, hay BMI = 60 nằm ngoài phạm vi phổ biến, nhóm chủ động giữ lại các outlier này vì:\n",
    "\n",
    "Chúng có thể là những trường hợp đặc biệt có thật, như béo phì hoặc thể trạng dị biệt – quan trọng với phân tích bệnh lý tim mạch.\n",
    "\n",
    "ap_lo = 1 vốn chắc chắn là lỗi nhập liệu->nhóm sẽ tiến hành lọc dữ liệu lần nữa\n"
   ]
  },
  {
   "cell_type": "markdown",
   "metadata": {
    "id": "64-JsKH4yCfH"
   },
   "source": [
    "\n",
    "###  Ngưỡng huyết áp tâm trương (`ap_lo`)  ảnh hưởng đến sức khỏe\n",
    "Đây là trạng thái huyết áp tâm trương mà nhóm tìm được.\n",
    "\n",
    "| **Trạng thái**       | **ap_lo cực trị**     | **Tác động**                                                                 |\n",
    "|----------------------|------------------------|-------------------------------------------------------------------------------|\n",
    "| Quá thấp   | < 40 mmHg              | Nguy cơ sốc tuần hoàn, suy đa cơ quan, **đe dọa tính mạng**                  |\n",
    "| Quá cao              | > 120–130 mmHg         | Gây tổn thương tim, thận, mạch máu; **tăng nguy cơ đột quỵ, biến chứng nặng** |\n",
    "\n",
    "->Ngưỡng an toàn sinh lý thực tế: khoảng 40 mmHg đến 120 mmHg"
   ]
  },
  {
   "cell_type": "code",
   "execution_count": 22,
   "metadata": {
    "executionInfo": {
     "elapsed": 1,
     "status": "ok",
     "timestamp": 1752971780781,
     "user": {
      "displayName": "Đạt Nguyễn Thành",
      "userId": "05303533103985890336"
     },
     "user_tz": -420
    },
    "id": "8qKBjucuxoT0"
   },
   "outputs": [],
   "source": [
    "df_predict = df_predict[df_predict['ap_lo'].between(40, 120)]"
   ]
  },
  {
   "cell_type": "code",
   "execution_count": 23,
   "metadata": {
    "colab": {
     "base_uri": "https://localhost:8080/",
     "height": 300
    },
    "executionInfo": {
     "elapsed": 124,
     "status": "ok",
     "timestamp": 1752971780922,
     "user": {
      "displayName": "Đạt Nguyễn Thành",
      "userId": "05303533103985890336"
     },
     "user_tz": -420
    },
    "id": "VyCAwzDJ05sj",
    "outputId": "74233c9d-82c2-4575-9e87-5ecf9c98556b"
   },
   "outputs": [
    {
     "data": {
      "application/vnd.google.colaboratory.intrinsic+json": {
       "summary": "{\n  \"name\": \"df_predict\",\n  \"rows\": 8,\n  \"fields\": [\n    {\n      \"column\": \"age_years\",\n      \"properties\": {\n        \"dtype\": \"number\",\n        \"std\": 24297.782204754865,\n        \"min\": 6.769810797878633,\n        \"max\": 68769.0,\n        \"num_unique_values\": 8,\n        \"samples\": [\n          52.824906571274845,\n          53.0,\n          68769.0\n        ],\n        \"semantic_type\": \"\",\n        \"description\": \"\"\n      }\n    },\n    {\n      \"column\": \"height\",\n      \"properties\": {\n        \"dtype\": \"number\",\n        \"std\": 24264.42839004116,\n        \"min\": 7.933894448593857,\n        \"max\": 68769.0,\n        \"num_unique_values\": 8,\n        \"samples\": [\n          164.4098503686254,\n          165.0,\n          68769.0\n        ],\n        \"semantic_type\": \"\",\n        \"description\": \"\"\n      }\n    },\n    {\n      \"column\": \"weight\",\n      \"properties\": {\n        \"dtype\": \"number\",\n        \"std\": 24287.437408236525,\n        \"min\": 14.18168382388473,\n        \"max\": 68769.0,\n        \"num_unique_values\": 8,\n        \"samples\": [\n          74.0750323546947,\n          72.0,\n          68769.0\n        ],\n        \"semantic_type\": \"\",\n        \"description\": \"\"\n      }\n    },\n    {\n      \"column\": \"ap_hi\",\n      \"properties\": {\n        \"dtype\": \"number\",\n        \"std\": 24273.008004836072,\n        \"min\": 16.486009681522535,\n        \"max\": 68769.0,\n        \"num_unique_values\": 7,\n        \"samples\": [\n          68769.0,\n          126.57918074738048,\n          140.0\n        ],\n        \"semantic_type\": \"\",\n        \"description\": \"\"\n      }\n    },\n    {\n      \"column\": \"ap_lo\",\n      \"properties\": {\n        \"dtype\": \"number\",\n        \"std\": 24288.2482778242,\n        \"min\": 9.380131969486904,\n        \"max\": 68769.0,\n        \"num_unique_values\": 7,\n        \"samples\": [\n          68769.0,\n          81.29152670534688,\n          90.0\n        ],\n        \"semantic_type\": \"\",\n        \"description\": \"\"\n      }\n    },\n    {\n      \"column\": \"cholesterol\",\n      \"properties\": {\n        \"dtype\": \"number\",\n        \"std\": 24313.056410328452,\n        \"min\": 0.6784389723344072,\n        \"max\": 68769.0,\n        \"num_unique_values\": 5,\n        \"samples\": [\n          1.36411755296718,\n          3.0,\n          0.6784389723344072\n        ],\n        \"semantic_type\": \"\",\n        \"description\": \"\"\n      }\n    },\n    {\n      \"column\": \"cardio\",\n      \"properties\": {\n        \"dtype\": \"number\",\n        \"std\": 24313.361884413047,\n        \"min\": 0.0,\n        \"max\": 68769.0,\n        \"num_unique_values\": 5,\n        \"samples\": [\n          0.49436519361921794,\n          1.0,\n          0.4999718831161879\n        ],\n        \"semantic_type\": \"\",\n        \"description\": \"\"\n      }\n    },\n    {\n      \"column\": \"bmi\",\n      \"properties\": {\n        \"dtype\": \"number\",\n        \"std\": 24304.09976302524,\n        \"min\": 5.2028591790484775,\n        \"max\": 68769.0,\n        \"num_unique_values\": 8,\n        \"samples\": [\n          27.4439780809595,\n          26.346494034400994,\n          68769.0\n        ],\n        \"semantic_type\": \"\",\n        \"description\": \"\"\n      }\n    }\n  ]\n}",
       "type": "dataframe"
      },
      "text/html": [
       "\n",
       "  <div id=\"df-c6132772-b1cc-4063-bdab-eb4a29b34006\" class=\"colab-df-container\">\n",
       "    <div>\n",
       "<style scoped>\n",
       "    .dataframe tbody tr th:only-of-type {\n",
       "        vertical-align: middle;\n",
       "    }\n",
       "\n",
       "    .dataframe tbody tr th {\n",
       "        vertical-align: top;\n",
       "    }\n",
       "\n",
       "    .dataframe thead th {\n",
       "        text-align: right;\n",
       "    }\n",
       "</style>\n",
       "<table border=\"1\" class=\"dataframe\">\n",
       "  <thead>\n",
       "    <tr style=\"text-align: right;\">\n",
       "      <th></th>\n",
       "      <th>age_years</th>\n",
       "      <th>height</th>\n",
       "      <th>weight</th>\n",
       "      <th>ap_hi</th>\n",
       "      <th>ap_lo</th>\n",
       "      <th>cholesterol</th>\n",
       "      <th>cardio</th>\n",
       "      <th>bmi</th>\n",
       "    </tr>\n",
       "  </thead>\n",
       "  <tbody>\n",
       "    <tr>\n",
       "      <th>count</th>\n",
       "      <td>68769.000000</td>\n",
       "      <td>68769.000000</td>\n",
       "      <td>68769.000000</td>\n",
       "      <td>68769.000000</td>\n",
       "      <td>68769.000000</td>\n",
       "      <td>68769.000000</td>\n",
       "      <td>68769.000000</td>\n",
       "      <td>68769.000000</td>\n",
       "    </tr>\n",
       "    <tr>\n",
       "      <th>mean</th>\n",
       "      <td>52.824907</td>\n",
       "      <td>164.409850</td>\n",
       "      <td>74.075032</td>\n",
       "      <td>126.579181</td>\n",
       "      <td>81.291527</td>\n",
       "      <td>1.364118</td>\n",
       "      <td>0.494365</td>\n",
       "      <td>27.443978</td>\n",
       "    </tr>\n",
       "    <tr>\n",
       "      <th>std</th>\n",
       "      <td>6.769811</td>\n",
       "      <td>7.933894</td>\n",
       "      <td>14.181684</td>\n",
       "      <td>16.486010</td>\n",
       "      <td>9.380132</td>\n",
       "      <td>0.678439</td>\n",
       "      <td>0.499972</td>\n",
       "      <td>5.202859</td>\n",
       "    </tr>\n",
       "    <tr>\n",
       "      <th>min</th>\n",
       "      <td>29.000000</td>\n",
       "      <td>100.000000</td>\n",
       "      <td>30.000000</td>\n",
       "      <td>80.000000</td>\n",
       "      <td>40.000000</td>\n",
       "      <td>1.000000</td>\n",
       "      <td>0.000000</td>\n",
       "      <td>13.493001</td>\n",
       "    </tr>\n",
       "    <tr>\n",
       "      <th>25%</th>\n",
       "      <td>48.000000</td>\n",
       "      <td>159.000000</td>\n",
       "      <td>65.000000</td>\n",
       "      <td>120.000000</td>\n",
       "      <td>80.000000</td>\n",
       "      <td>1.000000</td>\n",
       "      <td>0.000000</td>\n",
       "      <td>23.875115</td>\n",
       "    </tr>\n",
       "    <tr>\n",
       "      <th>50%</th>\n",
       "      <td>53.000000</td>\n",
       "      <td>165.000000</td>\n",
       "      <td>72.000000</td>\n",
       "      <td>120.000000</td>\n",
       "      <td>80.000000</td>\n",
       "      <td>1.000000</td>\n",
       "      <td>0.000000</td>\n",
       "      <td>26.346494</td>\n",
       "    </tr>\n",
       "    <tr>\n",
       "      <th>75%</th>\n",
       "      <td>58.000000</td>\n",
       "      <td>170.000000</td>\n",
       "      <td>82.000000</td>\n",
       "      <td>140.000000</td>\n",
       "      <td>90.000000</td>\n",
       "      <td>1.000000</td>\n",
       "      <td>1.000000</td>\n",
       "      <td>30.116213</td>\n",
       "    </tr>\n",
       "    <tr>\n",
       "      <th>max</th>\n",
       "      <td>64.000000</td>\n",
       "      <td>207.000000</td>\n",
       "      <td>180.000000</td>\n",
       "      <td>200.000000</td>\n",
       "      <td>120.000000</td>\n",
       "      <td>3.000000</td>\n",
       "      <td>1.000000</td>\n",
       "      <td>60.000000</td>\n",
       "    </tr>\n",
       "  </tbody>\n",
       "</table>\n",
       "</div>\n",
       "    <div class=\"colab-df-buttons\">\n",
       "\n",
       "  <div class=\"colab-df-container\">\n",
       "    <button class=\"colab-df-convert\" onclick=\"convertToInteractive('df-c6132772-b1cc-4063-bdab-eb4a29b34006')\"\n",
       "            title=\"Convert this dataframe to an interactive table.\"\n",
       "            style=\"display:none;\">\n",
       "\n",
       "  <svg xmlns=\"http://www.w3.org/2000/svg\" height=\"24px\" viewBox=\"0 -960 960 960\">\n",
       "    <path d=\"M120-120v-720h720v720H120Zm60-500h600v-160H180v160Zm220 220h160v-160H400v160Zm0 220h160v-160H400v160ZM180-400h160v-160H180v160Zm440 0h160v-160H620v160ZM180-180h160v-160H180v160Zm440 0h160v-160H620v160Z\"/>\n",
       "  </svg>\n",
       "    </button>\n",
       "\n",
       "  <style>\n",
       "    .colab-df-container {\n",
       "      display:flex;\n",
       "      gap: 12px;\n",
       "    }\n",
       "\n",
       "    .colab-df-convert {\n",
       "      background-color: #E8F0FE;\n",
       "      border: none;\n",
       "      border-radius: 50%;\n",
       "      cursor: pointer;\n",
       "      display: none;\n",
       "      fill: #1967D2;\n",
       "      height: 32px;\n",
       "      padding: 0 0 0 0;\n",
       "      width: 32px;\n",
       "    }\n",
       "\n",
       "    .colab-df-convert:hover {\n",
       "      background-color: #E2EBFA;\n",
       "      box-shadow: 0px 1px 2px rgba(60, 64, 67, 0.3), 0px 1px 3px 1px rgba(60, 64, 67, 0.15);\n",
       "      fill: #174EA6;\n",
       "    }\n",
       "\n",
       "    .colab-df-buttons div {\n",
       "      margin-bottom: 4px;\n",
       "    }\n",
       "\n",
       "    [theme=dark] .colab-df-convert {\n",
       "      background-color: #3B4455;\n",
       "      fill: #D2E3FC;\n",
       "    }\n",
       "\n",
       "    [theme=dark] .colab-df-convert:hover {\n",
       "      background-color: #434B5C;\n",
       "      box-shadow: 0px 1px 3px 1px rgba(0, 0, 0, 0.15);\n",
       "      filter: drop-shadow(0px 1px 2px rgba(0, 0, 0, 0.3));\n",
       "      fill: #FFFFFF;\n",
       "    }\n",
       "  </style>\n",
       "\n",
       "    <script>\n",
       "      const buttonEl =\n",
       "        document.querySelector('#df-c6132772-b1cc-4063-bdab-eb4a29b34006 button.colab-df-convert');\n",
       "      buttonEl.style.display =\n",
       "        google.colab.kernel.accessAllowed ? 'block' : 'none';\n",
       "\n",
       "      async function convertToInteractive(key) {\n",
       "        const element = document.querySelector('#df-c6132772-b1cc-4063-bdab-eb4a29b34006');\n",
       "        const dataTable =\n",
       "          await google.colab.kernel.invokeFunction('convertToInteractive',\n",
       "                                                    [key], {});\n",
       "        if (!dataTable) return;\n",
       "\n",
       "        const docLinkHtml = 'Like what you see? Visit the ' +\n",
       "          '<a target=\"_blank\" href=https://colab.research.google.com/notebooks/data_table.ipynb>data table notebook</a>'\n",
       "          + ' to learn more about interactive tables.';\n",
       "        element.innerHTML = '';\n",
       "        dataTable['output_type'] = 'display_data';\n",
       "        await google.colab.output.renderOutput(dataTable, element);\n",
       "        const docLink = document.createElement('div');\n",
       "        docLink.innerHTML = docLinkHtml;\n",
       "        element.appendChild(docLink);\n",
       "      }\n",
       "    </script>\n",
       "  </div>\n",
       "\n",
       "\n",
       "    <div id=\"df-f01410c3-0d59-47b3-bebf-942ce4746643\">\n",
       "      <button class=\"colab-df-quickchart\" onclick=\"quickchart('df-f01410c3-0d59-47b3-bebf-942ce4746643')\"\n",
       "                title=\"Suggest charts\"\n",
       "                style=\"display:none;\">\n",
       "\n",
       "<svg xmlns=\"http://www.w3.org/2000/svg\" height=\"24px\"viewBox=\"0 0 24 24\"\n",
       "     width=\"24px\">\n",
       "    <g>\n",
       "        <path d=\"M19 3H5c-1.1 0-2 .9-2 2v14c0 1.1.9 2 2 2h14c1.1 0 2-.9 2-2V5c0-1.1-.9-2-2-2zM9 17H7v-7h2v7zm4 0h-2V7h2v10zm4 0h-2v-4h2v4z\"/>\n",
       "    </g>\n",
       "</svg>\n",
       "      </button>\n",
       "\n",
       "<style>\n",
       "  .colab-df-quickchart {\n",
       "      --bg-color: #E8F0FE;\n",
       "      --fill-color: #1967D2;\n",
       "      --hover-bg-color: #E2EBFA;\n",
       "      --hover-fill-color: #174EA6;\n",
       "      --disabled-fill-color: #AAA;\n",
       "      --disabled-bg-color: #DDD;\n",
       "  }\n",
       "\n",
       "  [theme=dark] .colab-df-quickchart {\n",
       "      --bg-color: #3B4455;\n",
       "      --fill-color: #D2E3FC;\n",
       "      --hover-bg-color: #434B5C;\n",
       "      --hover-fill-color: #FFFFFF;\n",
       "      --disabled-bg-color: #3B4455;\n",
       "      --disabled-fill-color: #666;\n",
       "  }\n",
       "\n",
       "  .colab-df-quickchart {\n",
       "    background-color: var(--bg-color);\n",
       "    border: none;\n",
       "    border-radius: 50%;\n",
       "    cursor: pointer;\n",
       "    display: none;\n",
       "    fill: var(--fill-color);\n",
       "    height: 32px;\n",
       "    padding: 0;\n",
       "    width: 32px;\n",
       "  }\n",
       "\n",
       "  .colab-df-quickchart:hover {\n",
       "    background-color: var(--hover-bg-color);\n",
       "    box-shadow: 0 1px 2px rgba(60, 64, 67, 0.3), 0 1px 3px 1px rgba(60, 64, 67, 0.15);\n",
       "    fill: var(--button-hover-fill-color);\n",
       "  }\n",
       "\n",
       "  .colab-df-quickchart-complete:disabled,\n",
       "  .colab-df-quickchart-complete:disabled:hover {\n",
       "    background-color: var(--disabled-bg-color);\n",
       "    fill: var(--disabled-fill-color);\n",
       "    box-shadow: none;\n",
       "  }\n",
       "\n",
       "  .colab-df-spinner {\n",
       "    border: 2px solid var(--fill-color);\n",
       "    border-color: transparent;\n",
       "    border-bottom-color: var(--fill-color);\n",
       "    animation:\n",
       "      spin 1s steps(1) infinite;\n",
       "  }\n",
       "\n",
       "  @keyframes spin {\n",
       "    0% {\n",
       "      border-color: transparent;\n",
       "      border-bottom-color: var(--fill-color);\n",
       "      border-left-color: var(--fill-color);\n",
       "    }\n",
       "    20% {\n",
       "      border-color: transparent;\n",
       "      border-left-color: var(--fill-color);\n",
       "      border-top-color: var(--fill-color);\n",
       "    }\n",
       "    30% {\n",
       "      border-color: transparent;\n",
       "      border-left-color: var(--fill-color);\n",
       "      border-top-color: var(--fill-color);\n",
       "      border-right-color: var(--fill-color);\n",
       "    }\n",
       "    40% {\n",
       "      border-color: transparent;\n",
       "      border-right-color: var(--fill-color);\n",
       "      border-top-color: var(--fill-color);\n",
       "    }\n",
       "    60% {\n",
       "      border-color: transparent;\n",
       "      border-right-color: var(--fill-color);\n",
       "    }\n",
       "    80% {\n",
       "      border-color: transparent;\n",
       "      border-right-color: var(--fill-color);\n",
       "      border-bottom-color: var(--fill-color);\n",
       "    }\n",
       "    90% {\n",
       "      border-color: transparent;\n",
       "      border-bottom-color: var(--fill-color);\n",
       "    }\n",
       "  }\n",
       "</style>\n",
       "\n",
       "      <script>\n",
       "        async function quickchart(key) {\n",
       "          const quickchartButtonEl =\n",
       "            document.querySelector('#' + key + ' button');\n",
       "          quickchartButtonEl.disabled = true;  // To prevent multiple clicks.\n",
       "          quickchartButtonEl.classList.add('colab-df-spinner');\n",
       "          try {\n",
       "            const charts = await google.colab.kernel.invokeFunction(\n",
       "                'suggestCharts', [key], {});\n",
       "          } catch (error) {\n",
       "            console.error('Error during call to suggestCharts:', error);\n",
       "          }\n",
       "          quickchartButtonEl.classList.remove('colab-df-spinner');\n",
       "          quickchartButtonEl.classList.add('colab-df-quickchart-complete');\n",
       "        }\n",
       "        (() => {\n",
       "          let quickchartButtonEl =\n",
       "            document.querySelector('#df-f01410c3-0d59-47b3-bebf-942ce4746643 button');\n",
       "          quickchartButtonEl.style.display =\n",
       "            google.colab.kernel.accessAllowed ? 'block' : 'none';\n",
       "        })();\n",
       "      </script>\n",
       "    </div>\n",
       "\n",
       "    </div>\n",
       "  </div>\n"
      ],
      "text/plain": [
       "          age_years        height        weight         ap_hi         ap_lo  \\\n",
       "count  68769.000000  68769.000000  68769.000000  68769.000000  68769.000000   \n",
       "mean      52.824907    164.409850     74.075032    126.579181     81.291527   \n",
       "std        6.769811      7.933894     14.181684     16.486010      9.380132   \n",
       "min       29.000000    100.000000     30.000000     80.000000     40.000000   \n",
       "25%       48.000000    159.000000     65.000000    120.000000     80.000000   \n",
       "50%       53.000000    165.000000     72.000000    120.000000     80.000000   \n",
       "75%       58.000000    170.000000     82.000000    140.000000     90.000000   \n",
       "max       64.000000    207.000000    180.000000    200.000000    120.000000   \n",
       "\n",
       "        cholesterol        cardio           bmi  \n",
       "count  68769.000000  68769.000000  68769.000000  \n",
       "mean       1.364118      0.494365     27.443978  \n",
       "std        0.678439      0.499972      5.202859  \n",
       "min        1.000000      0.000000     13.493001  \n",
       "25%        1.000000      0.000000     23.875115  \n",
       "50%        1.000000      0.000000     26.346494  \n",
       "75%        1.000000      1.000000     30.116213  \n",
       "max        3.000000      1.000000     60.000000  "
      ]
     },
     "execution_count": 23,
     "metadata": {},
     "output_type": "execute_result"
    }
   ],
   "source": [
    "df_predict.describe()"
   ]
  },
  {
   "cell_type": "markdown",
   "metadata": {
    "id": "WK2Wej5503ep"
   },
   "source": [
    "Sau khi lọc ap_lo, dữ liệu sạch và đáng tin cậy hơn. BMI và weight cho thấy nhiều người thừa cân, nên nhóm quyết định giữ lại để phân tích nguy cơ bệnh tim. Tuổi tập trung ở nhóm trung niên – đúng đối tượng dễ mắc bệnh. Cardio gần cân bằng giữa 0 và 1, rất phù hợp để huấn luyện mô hình. Cholesterol tuy phần lớn ở mức bình thường nhưng vẫn có vài giá trị cao, cần giữ lại để phân tích thêm.\n",
    "\n"
   ]
  },
  {
   "cell_type": "code",
   "execution_count": 24,
   "metadata": {
    "colab": {
     "base_uri": "https://localhost:8080/"
    },
    "executionInfo": {
     "elapsed": 14416,
     "status": "ok",
     "timestamp": 1752971795332,
     "user": {
      "displayName": "Đạt Nguyễn Thành",
      "userId": "05303533103985890336"
     },
     "user_tz": -420
    },
    "id": "nPcXj5G-qjJ4",
    "outputId": "7d9ca9e7-77ba-46e7-aa55-c192d0023993"
   },
   "outputs": [
    {
     "name": "stdout",
     "output_type": "stream",
     "text": [
      "Collecting boto3\n",
      "  Downloading boto3-1.39.9-py3-none-any.whl.metadata (6.7 kB)\n",
      "Collecting botocore<1.40.0,>=1.39.9 (from boto3)\n",
      "  Downloading botocore-1.39.9-py3-none-any.whl.metadata (5.7 kB)\n",
      "Collecting jmespath<2.0.0,>=0.7.1 (from boto3)\n",
      "  Downloading jmespath-1.0.1-py3-none-any.whl.metadata (7.6 kB)\n",
      "Collecting s3transfer<0.14.0,>=0.13.0 (from boto3)\n",
      "  Downloading s3transfer-0.13.1-py3-none-any.whl.metadata (1.7 kB)\n",
      "Requirement already satisfied: python-dateutil<3.0.0,>=2.1 in /usr/local/lib/python3.11/dist-packages (from botocore<1.40.0,>=1.39.9->boto3) (2.9.0.post0)\n",
      "Requirement already satisfied: urllib3!=2.2.0,<3,>=1.25.4 in /usr/local/lib/python3.11/dist-packages (from botocore<1.40.0,>=1.39.9->boto3) (2.4.0)\n",
      "Requirement already satisfied: six>=1.5 in /usr/local/lib/python3.11/dist-packages (from python-dateutil<3.0.0,>=2.1->botocore<1.40.0,>=1.39.9->boto3) (1.17.0)\n",
      "Downloading boto3-1.39.9-py3-none-any.whl (139 kB)\n",
      "\u001b[2K   \u001b[90m━━━━━━━━━━━━━━━━━━━━━━━━━━━━━━━━━━━━━━━━\u001b[0m \u001b[32m139.9/139.9 kB\u001b[0m \u001b[31m5.8 MB/s\u001b[0m eta \u001b[36m0:00:00\u001b[0m\n",
      "\u001b[?25hDownloading botocore-1.39.9-py3-none-any.whl (13.9 MB)\n",
      "\u001b[2K   \u001b[90m━━━━━━━━━━━━━━━━━━━━━━━━━━━━━━━━━━━━━━━━\u001b[0m \u001b[32m13.9/13.9 MB\u001b[0m \u001b[31m96.5 MB/s\u001b[0m eta \u001b[36m0:00:00\u001b[0m\n",
      "\u001b[?25hDownloading jmespath-1.0.1-py3-none-any.whl (20 kB)\n",
      "Downloading s3transfer-0.13.1-py3-none-any.whl (85 kB)\n",
      "\u001b[2K   \u001b[90m━━━━━━━━━━━━━━━━━━━━━━━━━━━━━━━━━━━━━━━━\u001b[0m \u001b[32m85.3/85.3 kB\u001b[0m \u001b[31m7.0 MB/s\u001b[0m eta \u001b[36m0:00:00\u001b[0m\n",
      "\u001b[?25hInstalling collected packages: jmespath, botocore, s3transfer, boto3\n",
      "Successfully installed boto3-1.39.9 botocore-1.39.9 jmespath-1.0.1 s3transfer-0.13.1\n"
     ]
    }
   ],
   "source": [
    "pip install boto3"
   ]
  },
  {
   "cell_type": "code",
   "execution_count": null,
   "metadata": {
    "colab": {
     "base_uri": "https://localhost:8080/"
    },
    "executionInfo": {
     "elapsed": 2743,
     "status": "ok",
     "timestamp": 1752971798099,
     "user": {
      "displayName": "Đạt Nguyễn Thành",
      "userId": "05303533103985890336"
     },
     "user_tz": -420
    },
    "id": "BXtxF0cOrVZ8",
    "outputId": "139a7b83-4408-49d5-d724-a8ed68f2acb6"
   },
   "outputs": [
    {
     "name": "stdout",
     "output_type": "stream",
     "text": [
      " Đã upload cardio_clean.csv lên bucket `public-bucket-nhuttan-01`\n"
     ]
    }
   ],
   "source": [
    "import boto3\n",
    "\n",
    "filename = \"cardio_clean.csv\"\n",
    "df_predict.to_csv(filename, index=False)\n",
    "\n",
    "aws_access_key = 'xxx'\n",
    "aws_secret_key = 'xxx'\n",
    "region = 'ap-southeast-1'\n",
    "bucket_name = 'public-bucket-nhuttan-01'\n",
    "\n",
    "\n",
    "s3 = boto3.client('s3',\n",
    "                  aws_access_key_id=aws_access_key,\n",
    "                  aws_secret_access_key=aws_secret_key,\n",
    "                  region_name=region)\n",
    "\n",
    "s3.upload_file(Filename=filename,\n",
    "               Bucket=bucket_name,\n",
    "               Key=f\"data/processed/{filename}\")\n",
    "\n",
    "print(f\" Đã upload {filename} lên bucket `{bucket_name}`\")\n"
   ]
  },
  {
   "cell_type": "markdown",
   "metadata": {
    "id": "vTo8EqNCNyv6"
   },
   "source": [
    "## **Tài liệu tham khảo**\n",
    "- https://viblo.asia/p/xu-ly-missing-data-trong-data-analysis-maGK7qaAlj2#_su-dung-mo-hinh-du-doan-cho-data-impution-13"
   ]
  }
 ],
 "metadata": {
  "colab": {
   "provenance": []
  },
  "kernelspec": {
   "display_name": "Python 3",
   "name": "python3"
  },
  "language_info": {
   "name": "python"
  }
 },
 "nbformat": 4,
 "nbformat_minor": 0
}
